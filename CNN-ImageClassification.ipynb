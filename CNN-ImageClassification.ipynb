{
 "cells": [
  {
   "cell_type": "code",
   "execution_count": 2,
   "id": "9ab149d6",
   "metadata": {},
   "outputs": [],
   "source": [
    "import tensorflow as tf\n",
    "from tensorflow import keras"
   ]
  },
  {
   "cell_type": "code",
   "execution_count": 3,
   "id": "f061367e",
   "metadata": {},
   "outputs": [],
   "source": [
    "import os"
   ]
  },
  {
   "cell_type": "code",
   "execution_count": 4,
   "id": "e09f1731",
   "metadata": {},
   "outputs": [],
   "source": [
    "os.chdir('D:/SLIIT/Y3S2/MLOM/Labs/4/Cat&Dog Dataset')"
   ]
  },
  {
   "cell_type": "code",
   "execution_count": 5,
   "id": "fc7d2b91",
   "metadata": {},
   "outputs": [
    {
     "name": "stdout",
     "output_type": "stream",
     "text": [
      "D:\\SLIIT\\Y3S2\\MLOM\\Labs\\4\\Cat&Dog Dataset\n"
     ]
    }
   ],
   "source": [
    "cwd = os.getcwd()\n",
    "print(cwd)"
   ]
  },
  {
   "cell_type": "code",
   "execution_count": 6,
   "id": "77e54c13",
   "metadata": {},
   "outputs": [],
   "source": [
    "train_path = 'Training_data'\n",
    "valid_path = 'Testing_data'"
   ]
  },
  {
   "cell_type": "markdown",
   "id": "7e207071",
   "metadata": {},
   "source": [
    "### Define the model"
   ]
  },
  {
   "cell_type": "code",
   "execution_count": 7,
   "id": "b5f937f8",
   "metadata": {},
   "outputs": [],
   "source": [
    "model = tf.keras.models.Sequential([\n",
    "    #Note that input shape is the desired size of the image 300x300 with 3 bytes  color\n",
    "    #This is the first convolution\n",
    "    tf.keras.layers.Conv2D(filters=16, kernel_size=3, activation='relu', input_shape=(300,300,3)),\n",
    "    tf.keras.layers.MaxPooling2D(2,2),\n",
    "    \n",
    "    # The second convolution\n",
    "    tf.keras.layers.Conv2D(filters=16, kernel_size=3, activation='relu'),\n",
    "    tf.keras.layers.MaxPooling2D(pool_size=2),\n",
    "    \n",
    "    # The third convolution\n",
    "    tf.keras.layers.Conv2D(filters=32, kernel_size=3, activation='relu'),\n",
    "    tf.keras.layers.MaxPooling2D(pool_size=2),\n",
    "    \n",
    "    # The fourth convolution\n",
    "    tf.keras.layers.Conv2D(filters=64, kernel_size=3, activation='relu'),\n",
    "    tf.keras.layers.MaxPooling2D(pool_size=2),\n",
    "    \n",
    "    # The fifth convolution\n",
    "    tf.keras.layers.Conv2D(filters=64, kernel_size=3, activation='relu'),\n",
    "    tf.keras.layers.MaxPooling2D(pool_size=2),\n",
    "    \n",
    "    # Flatten results to feed into a DNN\n",
    "    tf.keras.layers.Flatten(),\n",
    "    \n",
    "    # 512 neuron hidden layer\n",
    "    tf.keras.layers.Dense(512, activation='relu'),\n",
    "    \n",
    "    # Only 1 output neuron. It will contain a value from 0-1 where 0 for class ('cat') and 1 for the other ('Dog')\n",
    "    tf.keras.layers.Dense(1, activation='sigmoid')\n",
    "])"
   ]
  },
  {
   "cell_type": "markdown",
   "id": "7140c2ea",
   "metadata": {},
   "source": [
    "#### first convolution\n",
    "\n",
    "tf.keras.layers.Conv2D(...): These lines define convolutional layers in the model. Convolutional layers are used to extract features from images.\n",
    "\n",
    "filters=16: The number of filters (also known as kernels) in the convolutional layer. Each filter learns different features.\n",
    "\n",
    "kernel_size=3: The size of the convolutional kernel (3x3 in this case).\n",
    "\n",
    "activation='relu': The activation function used after the convolution operation is Rectified Linear Unit (ReLU), which introduces non-linearity to the model.\n",
    "\n",
    "input_shape=(300, 300, 3): Specifies the input shape of the first layer. In this case, it's a 300x300 pixel image with 3 color channels (RGB).\n",
    "\n",
    "#### second convolution\n",
    "\n",
    "tf.keras.layers.MaxPooling2D(...): These lines define max-pooling layers, which downsample the spatial dimensions of the feature maps. This helps reduce computational complexity.\n",
    "\n",
    "pool_size=2: The size of the pooling window (2x2 in this case).\n",
    "\n",
    "\n",
    "tf.keras.layers.Flatten(): This layer flattens the 2D feature maps from the previous convolutional layers into a 1D vector. This prepares the data for the fully connected (dense) layers.\n",
    "\n",
    "\n",
    "tf.keras.layers.Dense(512, activation='relu'): This is a dense (fully connected) hidden layer with 512 neurons and ReLU activation. It adds non-linearity to the model and learns high-level features.\n",
    "\n",
    "\n",
    "tf.keras.layers.Dense(1, activation='sigmoid'): This is the output layer with a single neuron and sigmoid activation. It's common in binary classification tasks where the model outputs a probability between 0 and 1."
   ]
  },
  {
   "cell_type": "code",
   "execution_count": 8,
   "id": "89606ac4",
   "metadata": {},
   "outputs": [
    {
     "name": "stdout",
     "output_type": "stream",
     "text": [
      "Model: \"sequential\"\n",
      "_________________________________________________________________\n",
      " Layer (type)                Output Shape              Param #   \n",
      "=================================================================\n",
      " conv2d (Conv2D)             (None, 298, 298, 16)      448       \n",
      "                                                                 \n",
      " max_pooling2d (MaxPooling2  (None, 149, 149, 16)      0         \n",
      " D)                                                              \n",
      "                                                                 \n",
      " conv2d_1 (Conv2D)           (None, 147, 147, 16)      2320      \n",
      "                                                                 \n",
      " max_pooling2d_1 (MaxPoolin  (None, 73, 73, 16)        0         \n",
      " g2D)                                                            \n",
      "                                                                 \n",
      " conv2d_2 (Conv2D)           (None, 71, 71, 32)        4640      \n",
      "                                                                 \n",
      " max_pooling2d_2 (MaxPoolin  (None, 35, 35, 32)        0         \n",
      " g2D)                                                            \n",
      "                                                                 \n",
      " conv2d_3 (Conv2D)           (None, 33, 33, 64)        18496     \n",
      "                                                                 \n",
      " max_pooling2d_3 (MaxPoolin  (None, 16, 16, 64)        0         \n",
      " g2D)                                                            \n",
      "                                                                 \n",
      " conv2d_4 (Conv2D)           (None, 14, 14, 64)        36928     \n",
      "                                                                 \n",
      " max_pooling2d_4 (MaxPoolin  (None, 7, 7, 64)          0         \n",
      " g2D)                                                            \n",
      "                                                                 \n",
      " flatten (Flatten)           (None, 3136)              0         \n",
      "                                                                 \n",
      " dense (Dense)               (None, 512)               1606144   \n",
      "                                                                 \n",
      " dense_1 (Dense)             (None, 1)                 513       \n",
      "                                                                 \n",
      "=================================================================\n",
      "Total params: 1669489 (6.37 MB)\n",
      "Trainable params: 1669489 (6.37 MB)\n",
      "Non-trainable params: 0 (0.00 Byte)\n",
      "_________________________________________________________________\n"
     ]
    }
   ],
   "source": [
    "model.summary()"
   ]
  },
  {
   "cell_type": "markdown",
   "id": "02283693",
   "metadata": {},
   "source": [
    "### Compile the model"
   ]
  },
  {
   "cell_type": "code",
   "execution_count": 9,
   "id": "58d386ca",
   "metadata": {},
   "outputs": [],
   "source": [
    "model.compile(optimizer='adam',\n",
    "             loss='binary_crossentropy',\n",
    "             metrics=['accuracy'])"
   ]
  },
  {
   "cell_type": "markdown",
   "id": "3e77b3b1",
   "metadata": {},
   "source": [
    "### Train the model from generators"
   ]
  },
  {
   "cell_type": "markdown",
   "id": "b780ebb0",
   "metadata": {},
   "source": [
    "### Training"
   ]
  },
  {
   "cell_type": "code",
   "execution_count": 10,
   "id": "d6968494",
   "metadata": {},
   "outputs": [
    {
     "name": "stdout",
     "output_type": "stream",
     "text": [
      "Found 633 images belonging to 2 classes.\n",
      "Found 200 images belonging to 2 classes.\n"
     ]
    }
   ],
   "source": [
    "from tensorflow.keras.preprocessing.image import ImageDataGenerator\n",
    "\n",
    "# All train images will be rescaled by 1./255\n",
    "train_datagen = ImageDataGenerator(rescale = 1./255)\n",
    "\n",
    "# Flow training images in batches of 128 using train_datagen generator\n",
    "train_generator = train_datagen.flow_from_directory(train_path,\n",
    "                                                    #All images resized to 150x150\n",
    "                                                    target_size=(300,300),\n",
    "                                                    batch_size=32,\n",
    "                                                    #Since we use binary_crossentropy loss, we need binary labels\n",
    "                                                    class_mode='binary')\n",
    "\n",
    "# All test images will be rescaled by 1./255\n",
    "test_datagen = ImageDataGenerator(rescale = 1./255)\n",
    "\n",
    "# Apply predefined specification to test dataset\n",
    "test_set = test_datagen.flow_from_directory(valid_path,\n",
    "                                            target_size=(300,300),\n",
    "                                            batch_size=32,\n",
    "                                            class_mode='binary')"
   ]
  },
  {
   "cell_type": "markdown",
   "id": "7e4f0dd3",
   "metadata": {},
   "source": [
    "For Training Data:\n",
    "\n",
    "ImageDataGenerator is a Keras utility for data augmentation and preprocessing of image data.\n",
    "\n",
    "rescale=1./255 scales the pixel values of the images in the training dataset to a range between 0 and 1 by dividing each pixel value by 255. This is a common preprocessing step for neural networks as it helps in training stability.\n",
    "\n",
    "flow_from_directory is a method of ImageDataGenerator used to generate batches of training data from a directory of images.\n",
    "\n",
    "'D:\\\\SLIIT\\\\Y3S2\\\\MLOM\\\\Labs\\\\4\\\\Cat&Dog Dataset\\\\Training_data' specifies the directory containing the training images.\n",
    "\n",
    "target_size=(300, 300) resizes all training images to a target size of 300x300 pixels.\n",
    "\n",
    "batch_size=32 determines the batch size for training. It means that the training data will be divided into batches of 32 images for each training step.\n",
    "\n",
    "class_mode='binary' indicates that the labels are binary (e.g., 0 for cats, 1 for dogs).\n",
    "\n",
    "\n",
    "For Testing Data:\n",
    "\n",
    "flow_from_directory is used again to generate batches of test data from a different directory containing test images.\n",
    "\n",
    "The parameters are similar to the training data generator.\n",
    "    \n",
    "    \n",
    "These data generators are essential for efficiently loading and preprocessing large datasets during model training. They automatically handle tasks like resizing, rescaling, and batching, making it easier to work with image data in deep learning models."
   ]
  },
  {
   "cell_type": "code",
   "execution_count": 13,
   "id": "9f4ff99e",
   "metadata": {},
   "outputs": [
    {
     "name": "stdout",
     "output_type": "stream",
     "text": [
      "Epoch 1/10\n",
      "20/20 [==============================] - 20s 1000ms/step - loss: 0.6579 - accuracy: 0.6066 - val_loss: 0.7181 - val_accuracy: 0.5000\n",
      "Epoch 2/10\n",
      "20/20 [==============================] - 19s 969ms/step - loss: 0.6433 - accuracy: 0.6066 - val_loss: 0.6951 - val_accuracy: 0.5000\n",
      "Epoch 3/10\n",
      "20/20 [==============================] - 19s 937ms/step - loss: 0.6283 - accuracy: 0.6382 - val_loss: 0.7245 - val_accuracy: 0.5000\n",
      "Epoch 4/10\n",
      "20/20 [==============================] - 19s 932ms/step - loss: 0.6006 - accuracy: 0.6682 - val_loss: 0.6208 - val_accuracy: 0.6850\n",
      "Epoch 5/10\n",
      "20/20 [==============================] - 19s 927ms/step - loss: 0.5797 - accuracy: 0.7062 - val_loss: 0.6643 - val_accuracy: 0.6250\n",
      "Epoch 6/10\n",
      "20/20 [==============================] - 20s 1s/step - loss: 0.5459 - accuracy: 0.7267 - val_loss: 0.6399 - val_accuracy: 0.6300\n",
      "Epoch 7/10\n",
      "20/20 [==============================] - 19s 951ms/step - loss: 0.5133 - accuracy: 0.7504 - val_loss: 0.8731 - val_accuracy: 0.5700\n",
      "Epoch 8/10\n",
      "20/20 [==============================] - 19s 956ms/step - loss: 0.4882 - accuracy: 0.7472 - val_loss: 0.6128 - val_accuracy: 0.6700\n",
      "Epoch 9/10\n",
      "20/20 [==============================] - 19s 959ms/step - loss: 0.4732 - accuracy: 0.7615 - val_loss: 0.6558 - val_accuracy: 0.6650\n",
      "Epoch 10/10\n",
      "20/20 [==============================] - 19s 938ms/step - loss: 0.4266 - accuracy: 0.7883 - val_loss: 0.8273 - val_accuracy: 0.6000\n"
     ]
    }
   ],
   "source": [
    "# Train the model using generators\n",
    "num_epochs = 10\n",
    "\n",
    "history = model.fit(\n",
    "             train_generator,\n",
    "             epochs= num_epochs,\n",
    "             validation_data=test_set\n",
    "             )"
   ]
  },
  {
   "cell_type": "markdown",
   "id": "7a998987",
   "metadata": {},
   "source": [
    "train_generator,: train_generator is an instance of tf.keras.preprocessing.image.ImageDataGenerator that generates batches of training data. It's used to provide training data to the model.\n",
    "\n",
    "steps_per_epoch=100,: This parameter specifies the number of batches to draw from the training generator in each epoch. In this case, it's set to 100, meaning that in each epoch, the model will process 100 batches of training data.\n",
    "\n",
    "epochs=10,: The number of training epochs is set to 10. An epoch is one complete pass through the entire training dataset. During training, the model will iterate over the dataset 10 times, each time updating its weights.\n",
    "\n",
    "validation_data=validation_generator,: validation_generator is another instance of tf.keras.preprocessing.image.ImageDataGenerator that generates batches of validation data. Validation data is used to evaluate the model's performance during training and prevent overfitting.\n",
    "\n",
    "validation_steps=50): Similar to steps_per_epoch, this parameter specifies the number of batches to draw from the validation generator in each epoch for evaluation. It's set to 50, so the model will evaluate its performance on 50 validation batches in each epoch."
   ]
  },
  {
   "cell_type": "code",
   "execution_count": 14,
   "id": "bb896e1f",
   "metadata": {},
   "outputs": [],
   "source": [
    "import matplotlib.pyplot as plt"
   ]
  },
  {
   "cell_type": "code",
   "execution_count": 15,
   "id": "c492799d",
   "metadata": {},
   "outputs": [
    {
     "data": {
      "image/png": "[encoded data removed]",
      "text/plain": [
       "<Figure size 640x480 with 1 Axes>"
      ]
     },
     "metadata": {},
     "output_type": "display_data"
    },
    {
     "data": {
      "image/png": "[encoded data removed]",
      "text/plain": [
       "<Figure size 640x480 with 1 Axes>"
      ]
     },
     "metadata": {},
     "output_type": "display_data"
    },
    {
     "data": {
      "text/plain": [
       "<Figure size 640x480 with 0 Axes>"
      ]
     },
     "metadata": {},
     "output_type": "display_data"
    }
   ],
   "source": [
    "#plot the loss\n",
    "\n",
    "plt.plot(history.history['loss'], label='train loss')\n",
    "plt.plot(history.history['val_loss'], label='val acc')\n",
    "plt.legend()\n",
    "plt.show()\n",
    "plt.savefig('LossVal_loss')\n",
    "\n",
    "# plot the accuracy\n",
    "\n",
    "plt.plot(history.history['accuracy'], label='train acc')\n",
    "plt.plot(history.history['val_accuracy'], label='val acc')\n",
    "plt.legend()\n",
    "plt.show()\n",
    "plt.savefig('AccVal_loss')"
   ]
  },
  {
   "cell_type": "code",
   "execution_count": null,
   "id": "3db5bbfe",
   "metadata": {},
   "outputs": [],
   "source": []
  }
 ],
 "metadata": {
  "kernelspec": {
   "display_name": "Python 3 (ipykernel)",
   "language": "python",
   "name": "python3"
  },
  "language_info": {
   "codemirror_mode": {
    "name": "ipython",
    "version": 3
   },
   "file_extension": ".py",
   "mimetype": "text/x-python",
   "name": "python",
   "nbconvert_exporter": "python",
   "pygments_lexer": "ipython3",
   "version": "3.9.13"
  }
 },
 "nbformat": 4,
 "nbformat_minor": 5
}

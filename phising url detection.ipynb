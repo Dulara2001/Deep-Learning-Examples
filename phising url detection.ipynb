{
 "cells": [
  {
   "cell_type": "code",
   "execution_count": 1,
   "id": "11e6b787",
   "metadata": {},
   "outputs": [
    {
     "name": "stdout",
     "output_type": "stream",
     "text": [
      "Collecting tld\n",
      "  Downloading tld-0.13-py2.py3-none-any.whl (263 kB)\n",
      "     ------------------------------------ 263.8/263.8 kB 369.1 kB/s eta 0:00:00\n",
      "Installing collected packages: tld\n",
      "Successfully installed tld-0.13\n"
     ]
    }
   ],
   "source": [
    "!pip install tld"
   ]
  },
  {
   "cell_type": "code",
   "execution_count": 2,
   "id": "f3a92597",
   "metadata": {},
   "outputs": [],
   "source": [
    "import re\n",
    "import numpy as np\n",
    "import pandas as pd\n",
    "import seaborn as sns\n",
    "import matplotlib.pyplot as plt\n",
    "from sklearn import tree\n",
    "\n",
    "from colorama import Fore  #Colorama is a module to color the python outputs\n",
    "\n",
    "from urllib.parse import urlparse\n",
    "# This module defines a standard interface to break Uniform Resource Locator (URL) \n",
    "# strings up in components (addressing scheme, network location, path etc.), \n",
    "# to combine the components back into a URL string, \n",
    "# and to convert a “relative URL” to an absolute URL given a “base URL.”\n",
    "\n",
    "from sklearn.model_selection import train_test_split\n",
    "from sklearn.metrics import confusion_matrix, classification_report, accuracy_score\n",
    "from sklearn.tree import DecisionTreeClassifier\n",
    "from sklearn.ensemble import RandomForestClassifier\n",
    "from sklearn.neighbors import KNeighborsClassifier\n",
    "from sklearn.linear_model import SGDClassifier\n",
    "from sklearn.naive_bayes import GaussianNB\n",
    "from tld import get_tld, is_tld"
   ]
  },
  {
   "cell_type": "markdown",
   "id": "4d3883a3",
   "metadata": {},
   "source": [
    "### from colorama import Fore\n",
    "\n",
    "###### Purpose: Adds colors to terminal outputs. For example, you can make success messages green, warnings yellow, or errors red.\n",
    "\n",
    "\n",
    "### from urllib.parse import urlparse\n",
    "\n",
    "###### Purpose: Breaks a URL into components like:\n",
    "             Scheme (http, https)\n",
    "             Domain (example.com)\n",
    "             Path (/page1)\n",
    "###### Can also combine parts back into a full URL or convert relative URLs into absolute ones.\n",
    "\n",
    "\n",
    "##### KNeighborsClassifier: A classification algorithm based on the nearest neighbors.\n",
    "##### SGDClassifier: Implements stochastic gradient descent for linear classifiers.\n",
    "##### GaussianNB: A Naive Bayes model assuming Gaussian distribution for the features.\n",
    "\n",
    "\n",
    "### from tld import get_tld, is_tld\n",
    "###### Purpose: Extracts and verifies top-level domains (TLDs) from URLs. For example:\n",
    "Input: \"http://example.com/page1\"\n",
    "Output: \"com\" (TLD)"
   ]
  },
  {
   "cell_type": "code",
   "execution_count": null,
   "id": "94c795f2",
   "metadata": {},
   "outputs": [],
   "source": []
  },
  {
   "cell_type": "code",
   "execution_count": null,
   "id": "b1efda5c",
   "metadata": {},
   "outputs": [],
   "source": []
  },
  {
   "cell_type": "code",
   "execution_count": null,
   "id": "a539856d",
   "metadata": {},
   "outputs": [],
   "source": []
  },
  {
   "cell_type": "code",
   "execution_count": 3,
   "id": "699fce75",
   "metadata": {},
   "outputs": [],
   "source": [
    "data = pd.read_csv('D:/created websites/Spam Mail Prediction/phising url detect/malicious_phish.csv')\n",
    "data2=data.copy()"
   ]
  },
  {
   "cell_type": "code",
   "execution_count": 4,
   "id": "60bc4edd",
   "metadata": {},
   "outputs": [
    {
     "data": {
      "text/html": [
       "<div>\n",
       "<style scoped>\n",
       "    .dataframe tbody tr th:only-of-type {\n",
       "        vertical-align: middle;\n",
       "    }\n",
       "\n",
       "    .dataframe tbody tr th {\n",
       "        vertical-align: top;\n",
       "    }\n",
       "\n",
       "    .dataframe thead th {\n",
       "        text-align: right;\n",
       "    }\n",
       "</style>\n",
       "<table border=\"1\" class=\"dataframe\">\n",
       "  <thead>\n",
       "    <tr style=\"text-align: right;\">\n",
       "      <th></th>\n",
       "      <th>url</th>\n",
       "      <th>type</th>\n",
       "    </tr>\n",
       "  </thead>\n",
       "  <tbody>\n",
       "    <tr>\n",
       "      <th>0</th>\n",
       "      <td>br-icloud.com.br</td>\n",
       "      <td>phishing</td>\n",
       "    </tr>\n",
       "    <tr>\n",
       "      <th>1</th>\n",
       "      <td>mp3raid.com/music/krizz_kaliko.html</td>\n",
       "      <td>benign</td>\n",
       "    </tr>\n",
       "    <tr>\n",
       "      <th>2</th>\n",
       "      <td>bopsecrets.org/rexroth/cr/1.htm</td>\n",
       "      <td>benign</td>\n",
       "    </tr>\n",
       "    <tr>\n",
       "      <th>3</th>\n",
       "      <td>http://www.garage-pirenne.be/index.php?option=...</td>\n",
       "      <td>defacement</td>\n",
       "    </tr>\n",
       "    <tr>\n",
       "      <th>4</th>\n",
       "      <td>http://adventure-nicaragua.net/index.php?optio...</td>\n",
       "      <td>defacement</td>\n",
       "    </tr>\n",
       "  </tbody>\n",
       "</table>\n",
       "</div>"
      ],
      "text/plain": [
       "                                                 url        type\n",
       "0                                   br-icloud.com.br    phishing\n",
       "1                mp3raid.com/music/krizz_kaliko.html      benign\n",
       "2                    bopsecrets.org/rexroth/cr/1.htm      benign\n",
       "3  http://www.garage-pirenne.be/index.php?option=...  defacement\n",
       "4  http://adventure-nicaragua.net/index.php?optio...  defacement"
      ]
     },
     "execution_count": 4,
     "metadata": {},
     "output_type": "execute_result"
    }
   ],
   "source": [
    "data2.head()"
   ]
  },
  {
   "cell_type": "markdown",
   "id": "03c5e2e4",
   "metadata": {},
   "source": [
    "#### clean the dataset"
   ]
  },
  {
   "cell_type": "code",
   "execution_count": 5,
   "id": "6ba4761b",
   "metadata": {},
   "outputs": [],
   "source": [
    "# deleting the defacements\n",
    "indexNames = data2[ data2['type'] == 'defacement' ].index\n",
    "# Delete these row indexes from dataFrame\n",
    "data2.drop(indexNames , inplace=True)\n",
    "\n",
    "# deleting the malwares\n",
    "indexNames = data2[ data2['type'] == 'malware' ].index\n",
    "# Delete these row indexes from dataFrame\n",
    "data2.drop(indexNames , inplace=True)"
   ]
  },
  {
   "cell_type": "markdown",
   "id": "deb22985",
   "metadata": {},
   "source": [
    "Explanation\n",
    "Identifying Rows to Delete:\n",
    "\n",
    "python\n",
    "Copy code\n",
    "indexNames = data2[data2['type'] == 'defacement'].index\n",
    "data2['type'] == 'defacement': Filters rows where the value in the type column is \"defacement\".\n",
    ".index: Retrieves the index of these rows.\n",
    "Deleting the Rows:\n",
    "\n",
    "python\n",
    "Copy code\n",
    "data2.drop(indexNames, inplace=True)\n",
    "drop(indexNames): Deletes rows with the specified indices.\n",
    "inplace=True: Ensures the changes are directly applied to the original DataFrame, data2, without creating a copy.\n",
    "Repeating for Malware:\n",
    "\n",
    "The same logic is applied for rows where the type column has the value \"malware\"."
   ]
  },
  {
   "cell_type": "code",
   "execution_count": null,
   "id": "8384b926",
   "metadata": {},
   "outputs": [],
   "source": []
  },
  {
   "cell_type": "code",
   "execution_count": null,
   "id": "0890c4d4",
   "metadata": {},
   "outputs": [],
   "source": []
  },
  {
   "cell_type": "code",
   "execution_count": null,
   "id": "658a6022",
   "metadata": {},
   "outputs": [],
   "source": []
  },
  {
   "cell_type": "markdown",
   "id": "2a75a2dc",
   "metadata": {},
   "source": [
    "#### Feature Extraction"
   ]
  },
  {
   "cell_type": "code",
   "execution_count": 6,
   "id": "fafb6670",
   "metadata": {},
   "outputs": [
    {
     "data": {
      "text/html": [
       "<div>\n",
       "<style scoped>\n",
       "    .dataframe tbody tr th:only-of-type {\n",
       "        vertical-align: middle;\n",
       "    }\n",
       "\n",
       "    .dataframe tbody tr th {\n",
       "        vertical-align: top;\n",
       "    }\n",
       "\n",
       "    .dataframe thead th {\n",
       "        text-align: right;\n",
       "    }\n",
       "</style>\n",
       "<table border=\"1\" class=\"dataframe\">\n",
       "  <thead>\n",
       "    <tr style=\"text-align: right;\">\n",
       "      <th></th>\n",
       "      <th>url</th>\n",
       "      <th>type</th>\n",
       "      <th>Category</th>\n",
       "    </tr>\n",
       "  </thead>\n",
       "  <tbody>\n",
       "    <tr>\n",
       "      <th>0</th>\n",
       "      <td>br-icloud.com.br</td>\n",
       "      <td>phishing</td>\n",
       "      <td>1</td>\n",
       "    </tr>\n",
       "    <tr>\n",
       "      <th>1</th>\n",
       "      <td>mp3raid.com/music/krizz_kaliko.html</td>\n",
       "      <td>benign</td>\n",
       "      <td>0</td>\n",
       "    </tr>\n",
       "    <tr>\n",
       "      <th>2</th>\n",
       "      <td>bopsecrets.org/rexroth/cr/1.htm</td>\n",
       "      <td>benign</td>\n",
       "      <td>0</td>\n",
       "    </tr>\n",
       "    <tr>\n",
       "      <th>5</th>\n",
       "      <td>http://buzzfil.net/m/show-art/ils-etaient-loin...</td>\n",
       "      <td>benign</td>\n",
       "      <td>0</td>\n",
       "    </tr>\n",
       "    <tr>\n",
       "      <th>6</th>\n",
       "      <td>espn.go.com/nba/player/_/id/3457/brandon-rush</td>\n",
       "      <td>benign</td>\n",
       "      <td>0</td>\n",
       "    </tr>\n",
       "    <tr>\n",
       "      <th>7</th>\n",
       "      <td>yourbittorrent.com/?q=anthony-hamilton-soulife</td>\n",
       "      <td>benign</td>\n",
       "      <td>0</td>\n",
       "    </tr>\n",
       "    <tr>\n",
       "      <th>9</th>\n",
       "      <td>allmusic.com/album/crazy-from-the-heat-r16990</td>\n",
       "      <td>benign</td>\n",
       "      <td>0</td>\n",
       "    </tr>\n",
       "    <tr>\n",
       "      <th>10</th>\n",
       "      <td>corporationwiki.com/Ohio/Columbus/frank-s-bens...</td>\n",
       "      <td>benign</td>\n",
       "      <td>0</td>\n",
       "    </tr>\n",
       "    <tr>\n",
       "      <th>12</th>\n",
       "      <td>myspace.com/video/vid/30602581</td>\n",
       "      <td>benign</td>\n",
       "      <td>0</td>\n",
       "    </tr>\n",
       "    <tr>\n",
       "      <th>16</th>\n",
       "      <td>quickfacts.census.gov/qfd/maps/iowa_map.html</td>\n",
       "      <td>benign</td>\n",
       "      <td>0</td>\n",
       "    </tr>\n",
       "    <tr>\n",
       "      <th>17</th>\n",
       "      <td>nugget.ca/ArticleDisplay.aspx?archive=true&amp;e=1...</td>\n",
       "      <td>benign</td>\n",
       "      <td>0</td>\n",
       "    </tr>\n",
       "    <tr>\n",
       "      <th>18</th>\n",
       "      <td>uk.linkedin.com/pub/steve-rubenstein/8/718/755</td>\n",
       "      <td>benign</td>\n",
       "      <td>0</td>\n",
       "    </tr>\n",
       "    <tr>\n",
       "      <th>20</th>\n",
       "      <td>baseball-reference.com/players/h/harrige01.shtml</td>\n",
       "      <td>benign</td>\n",
       "      <td>0</td>\n",
       "    </tr>\n",
       "    <tr>\n",
       "      <th>21</th>\n",
       "      <td>signin.eby.de.zukruygxctzmmqi.civpro.co.za</td>\n",
       "      <td>phishing</td>\n",
       "      <td>1</td>\n",
       "    </tr>\n",
       "    <tr>\n",
       "      <th>22</th>\n",
       "      <td>192.com/atoz/people/oakley/patrick/</td>\n",
       "      <td>benign</td>\n",
       "      <td>0</td>\n",
       "    </tr>\n",
       "    <tr>\n",
       "      <th>23</th>\n",
       "      <td>nytimes.com/1998/03/29/style/cuttings-oh-that-...</td>\n",
       "      <td>benign</td>\n",
       "      <td>0</td>\n",
       "    </tr>\n",
       "    <tr>\n",
       "      <th>24</th>\n",
       "      <td>escholarship.org/uc/item/5xt4952c</td>\n",
       "      <td>benign</td>\n",
       "      <td>0</td>\n",
       "    </tr>\n",
       "    <tr>\n",
       "      <th>25</th>\n",
       "      <td>songfacts.com/detail.php?id=13410</td>\n",
       "      <td>benign</td>\n",
       "      <td>0</td>\n",
       "    </tr>\n",
       "    <tr>\n",
       "      <th>26</th>\n",
       "      <td>casamanana.org/education/blba/</td>\n",
       "      <td>benign</td>\n",
       "      <td>0</td>\n",
       "    </tr>\n",
       "    <tr>\n",
       "      <th>27</th>\n",
       "      <td>http://hollywoodlife.com/2014/05/01/rihanna-ih...</td>\n",
       "      <td>benign</td>\n",
       "      <td>0</td>\n",
       "    </tr>\n",
       "  </tbody>\n",
       "</table>\n",
       "</div>"
      ],
      "text/plain": [
       "                                                  url      type  Category\n",
       "0                                    br-icloud.com.br  phishing         1\n",
       "1                 mp3raid.com/music/krizz_kaliko.html    benign         0\n",
       "2                     bopsecrets.org/rexroth/cr/1.htm    benign         0\n",
       "5   http://buzzfil.net/m/show-art/ils-etaient-loin...    benign         0\n",
       "6       espn.go.com/nba/player/_/id/3457/brandon-rush    benign         0\n",
       "7      yourbittorrent.com/?q=anthony-hamilton-soulife    benign         0\n",
       "9       allmusic.com/album/crazy-from-the-heat-r16990    benign         0\n",
       "10  corporationwiki.com/Ohio/Columbus/frank-s-bens...    benign         0\n",
       "12                     myspace.com/video/vid/30602581    benign         0\n",
       "16       quickfacts.census.gov/qfd/maps/iowa_map.html    benign         0\n",
       "17  nugget.ca/ArticleDisplay.aspx?archive=true&e=1...    benign         0\n",
       "18     uk.linkedin.com/pub/steve-rubenstein/8/718/755    benign         0\n",
       "20   baseball-reference.com/players/h/harrige01.shtml    benign         0\n",
       "21         signin.eby.de.zukruygxctzmmqi.civpro.co.za  phishing         1\n",
       "22                192.com/atoz/people/oakley/patrick/    benign         0\n",
       "23  nytimes.com/1998/03/29/style/cuttings-oh-that-...    benign         0\n",
       "24                  escholarship.org/uc/item/5xt4952c    benign         0\n",
       "25                  songfacts.com/detail.php?id=13410    benign         0\n",
       "26                     casamanana.org/education/blba/    benign         0\n",
       "27  http://hollywoodlife.com/2014/05/01/rihanna-ih...    benign         0"
      ]
     },
     "execution_count": 6,
     "metadata": {},
     "output_type": "execute_result"
    }
   ],
   "source": [
    "data2['url'] = data2['url'].replace('www.', '', regex=True)\n",
    "rem = {\"Category\": {\"benign\": 0,  \"phishing\":1}}\n",
    "data2['Category'] = data2['type']\n",
    "data2 = data2.replace(rem)\n",
    "data2.head(20)"
   ]
  },
  {
   "cell_type": "markdown",
   "id": "a9ea1d38",
   "metadata": {},
   "source": [
    "It modifies the url column to remove any occurrences of \"www.\" from the URLs. This is done using the replace method with the regex=True parameter, enabling pattern-based replacements.\n",
    "\n",
    "A dictionary named rem is created to map the \"Category\" values: \"benign\" is converted to 0, and \"phishing\" to 1.\n",
    "\n",
    "The Category column is then created (or replaced) by copying the values from the type column.\n",
    "\n",
    "Finally, the DataFrame is updated by applying the mappings in the rem dictionary. This means that the values in the Category column are replaced with the corresponding numerical values (0 or 1)."
   ]
  },
  {
   "cell_type": "code",
   "execution_count": null,
   "id": "27da99e9",
   "metadata": {},
   "outputs": [],
   "source": []
  },
  {
   "cell_type": "code",
   "execution_count": 7,
   "id": "bbb93f01",
   "metadata": {},
   "outputs": [],
   "source": [
    "data2['url_len'] = data2['url'].apply(lambda x: len(str(x)))"
   ]
  },
  {
   "cell_type": "markdown",
   "id": "077b8e21",
   "metadata": {},
   "source": [
    "This line of code adds a new column named url_len to the DataFrame data2. The url_len column contains the length of each URL in the url column."
   ]
  },
  {
   "cell_type": "code",
   "execution_count": null,
   "id": "71a9bf1d",
   "metadata": {},
   "outputs": [],
   "source": []
  },
  {
   "cell_type": "code",
   "execution_count": 8,
   "id": "fa32d608",
   "metadata": {},
   "outputs": [],
   "source": [
    "def process_tld(url):\n",
    "    try:\n",
    "#         Extract the top level domain (TLD) \n",
    "        res = get_tld(url, as_object = True, fail_silently=False,fix_protocol=True)\n",
    "        pri_domain= res.parsed_url.netloc\n",
    "    except :\n",
    "        pri_domain= None\n",
    "    return pri_domain\n",
    "\n",
    "data2['domain'] = data2['url'].apply(lambda i: process_tld(i))"
   ]
  },
  {
   "cell_type": "markdown",
   "id": "12524d71",
   "metadata": {},
   "source": [
    "The code extracts the main domain (like example.com) from the URLs in the url column of the data2 DataFrame and saves it in a new column called domain. If a URL is invalid, the domain will be set to None."
   ]
  },
  {
   "cell_type": "code",
   "execution_count": null,
   "id": "5cc2472f",
   "metadata": {},
   "outputs": [],
   "source": []
  },
  {
   "cell_type": "code",
   "execution_count": 9,
   "id": "0b60eed8",
   "metadata": {},
   "outputs": [],
   "source": [
    "feature = ['@','?','-','=','.','#','%','+','$','!','*',',','//']\n",
    "for a in feature:\n",
    "    data2[a] = data2['url'].apply(lambda i: i.count(a))"
   ]
  },
  {
   "cell_type": "markdown",
   "id": "c8b849ed",
   "metadata": {},
   "source": [
    "This code checks how many times certain special characters ('@', '?', '-', '=', '.', '#', '%', '+', '$', '!', '*', ',', '//') appear in each URL from the url column of the data2 DataFrame. For each special character, it creates a new column named after that character and stores the count for each URL.\n",
    "\n",
    "For example:\n",
    "\n",
    "If a URL contains three @ symbols, the value in the @ column for that URL will be 3.\n",
    "This process is repeated for all listed special characters."
   ]
  },
  {
   "cell_type": "code",
   "execution_count": null,
   "id": "562b2e9b",
   "metadata": {},
   "outputs": [],
   "source": []
  },
  {
   "cell_type": "code",
   "execution_count": 10,
   "id": "8248f29e",
   "metadata": {},
   "outputs": [],
   "source": [
    "def abnormal_url(url):\n",
    "    hostname = urlparse(url).hostname\n",
    "   ## print(hostname)\n",
    "    hostname = str(hostname)\n",
    "   # print(hostname)\n",
    "    match = re.search(hostname, url)\n",
    "    if match:\n",
    "        # print match.group()\n",
    "        return 1\n",
    "    else:\n",
    "        # print 'No matching pattern found'\n",
    "        return 0\n",
    "\n",
    "data2['abnormal_url'] = data2['url'].apply(lambda i: abnormal_url(i))"
   ]
  },
  {
   "cell_type": "code",
   "execution_count": 12,
   "id": "9eb15a49",
   "metadata": {},
   "outputs": [],
   "source": [
    "def httpSecure(url):\n",
    "    htp = urlparse(url).scheme #It supports the following URL schemes: file , ftp , gopher , hdl , \n",
    "                               #http , https ... from urllib.parse\n",
    "    match = str(htp)\n",
    "    if match=='https':\n",
    "        # print match.group()\n",
    "        return 1\n",
    "    else:\n",
    "        # print 'No matching pattern found'\n",
    "        return 0\n",
    "data2['https'] = data2['url'].apply(lambda i: httpSecure(i))"
   ]
  },
  {
   "cell_type": "code",
   "execution_count": 13,
   "id": "5e904a9a",
   "metadata": {},
   "outputs": [
    {
     "data": {
      "image/png": "[encoded data removed]",
      "text/plain": [
       "<Figure size 640x480 with 1 Axes>"
      ]
     },
     "metadata": {},
     "output_type": "display_data"
    }
   ],
   "source": [
    "sns.countplot(x='https', data=data2);"
   ]
  },
  {
   "cell_type": "code",
   "execution_count": 14,
   "id": "b0163b55",
   "metadata": {},
   "outputs": [],
   "source": [
    "def digit_count(url):\n",
    "    digits = 0\n",
    "    for i in url:\n",
    "        if i.isnumeric():\n",
    "            digits = digits + 1\n",
    "    return digits\n",
    "data2['digits']= data2['url'].apply(lambda i: digit_count(i))"
   ]
  },
  {
   "cell_type": "code",
   "execution_count": 15,
   "id": "e463bf62",
   "metadata": {},
   "outputs": [],
   "source": [
    "def letter_count(url):\n",
    "    letters = 0\n",
    "    for i in url:\n",
    "        if i.isalpha():\n",
    "            letters = letters + 1\n",
    "    return letters"
   ]
  },
  {
   "cell_type": "code",
   "execution_count": 16,
   "id": "c7be8441",
   "metadata": {},
   "outputs": [],
   "source": [
    "data2['letters']= data2['url'].apply(lambda i: letter_count(i))"
   ]
  },
  {
   "cell_type": "code",
   "execution_count": 17,
   "id": "4c93faf5",
   "metadata": {},
   "outputs": [],
   "source": [
    "def Shortining_Service(url):\n",
    "    match = re.search('bit\\.ly|goo\\.gl|shorte\\.st|go2l\\.ink|x\\.co|ow\\.ly|t\\.co|tinyurl|tr\\.im|is\\.gd|cli\\.gs|'\n",
    "                      'yfrog\\.com|migre\\.me|ff\\.im|tiny\\.cc|url4\\.eu|twit\\.ac|su\\.pr|twurl\\.nl|snipurl\\.com|'\n",
    "                      'short\\.to|BudURL\\.com|ping\\.fm|post\\.ly|Just\\.as|bkite\\.com|snipr\\.com|fic\\.kr|loopt\\.us|'\n",
    "                      'doiop\\.com|short\\.ie|kl\\.am|wp\\.me|rubyurl\\.com|om\\.ly|to\\.ly|bit\\.do|t\\.co|lnkd\\.in|'\n",
    "                      'db\\.tt|qr\\.ae|adf\\.ly|goo\\.gl|bitly\\.com|cur\\.lv|tinyurl\\.com|ow\\.ly|bit\\.ly|ity\\.im|'\n",
    "                      'q\\.gs|is\\.gd|po\\.st|bc\\.vc|twitthis\\.com|u\\.to|j\\.mp|buzurl\\.com|cutt\\.us|u\\.bb|yourls\\.org|'\n",
    "                      'x\\.co|prettylinkpro\\.com|scrnch\\.me|filoops\\.info|vzturl\\.com|qr\\.net|1url\\.com|tweez\\.me|v\\.gd|'\n",
    "                      'tr\\.im|link\\.zip\\.net',\n",
    "                      url)\n",
    "    if match:\n",
    "        return 1\n",
    "    else:\n",
    "        return 0\n",
    "    \n",
    "data2['Shortining_Service'] = data2['url'].apply(lambda x: Shortining_Service(x))"
   ]
  },
  {
   "cell_type": "code",
   "execution_count": 18,
   "id": "727b0975",
   "metadata": {},
   "outputs": [],
   "source": [
    "def having_ip_address(url):\n",
    "    match = re.search(\n",
    "        '(([01]?\\\\d\\\\d?|2[0-4]\\\\d|25[0-5])\\\\.([01]?\\\\d\\\\d?|2[0-4]\\\\d|25[0-5])\\\\.([01]?\\\\d\\\\d?|2[0-4]\\\\d|25[0-5])\\\\.'\n",
    "        '([01]?\\\\d\\\\d?|2[0-4]\\\\d|25[0-5])\\\\/)|'  # IPv4\n",
    "        '(([01]?\\\\d\\\\d?|2[0-4]\\\\d|25[0-5])\\\\.([01]?\\\\d\\\\d?|2[0-4]\\\\d|25[0-5])\\\\.([01]?\\\\d\\\\d?|2[0-4]\\\\d|25[0-5])\\\\.'\n",
    "        '([01]?\\\\d\\\\d?|2[0-4]\\\\d|25[0-5])\\\\/)|'  # IPv4 with port\n",
    "        '((0x[0-9a-fA-F]{1,2})\\\\.(0x[0-9a-fA-F]{1,2})\\\\.(0x[0-9a-fA-F]{1,2})\\\\.(0x[0-9a-fA-F]{1,2})\\\\/)' # IPv4 in hexadecimal\n",
    "        '(?:[a-fA-F0-9]{1,4}:){7}[a-fA-F0-9]{1,4}|'\n",
    "        '([0-9]+(?:\\.[0-9]+){3}:[0-9]+)|'\n",
    "        '((?:(?:\\d|[01]?\\d\\d|2[0-4]\\d|25[0-5])\\.){3}(?:25[0-5]|2[0-4]\\d|[01]?\\d\\d|\\d)(?:\\/\\d{1,2})?)', url)  # Ipv6\n",
    "    if match:\n",
    "        return 1\n",
    "    else:\n",
    "        return 0\n",
    "data2['having_ip_address'] = data2['url'].apply(lambda i: having_ip_address(i))"
   ]
  },
  {
   "cell_type": "code",
   "execution_count": null,
   "id": "1f836116",
   "metadata": {},
   "outputs": [],
   "source": []
  },
  {
   "cell_type": "code",
   "execution_count": 19,
   "id": "893de648",
   "metadata": {},
   "outputs": [],
   "source": [
    "X = data2.drop(['url','type','Category','domain'],axis=1)#,'type_code'\n",
    "y = data2['Category']"
   ]
  },
  {
   "cell_type": "code",
   "execution_count": 20,
   "id": "8e525585",
   "metadata": {},
   "outputs": [],
   "source": [
    "X_train, X_test, y_train, y_test = train_test_split(X, y, test_size=0.2, random_state=2)"
   ]
  },
  {
   "cell_type": "code",
   "execution_count": 22,
   "id": "2d01aab6",
   "metadata": {},
   "outputs": [
    {
     "name": "stdout",
     "output_type": "stream",
     "text": [
      "#############################################\n",
      "######-Model =>\u001b[07m <class 'sklearn.tree._classes.DecisionTreeClassifier'> \u001b[0m\n",
      "Test Accuracy :\u001b[32m \u001b[01m 91.20% \u001b[30m \u001b[0m\n",
      "\u001b[01m              Classification_report \u001b[0m\n",
      "              precision    recall  f1-score   support\n",
      "\n",
      "           0       0.92      0.98      0.95     85626\n",
      "           1       0.85      0.62      0.72     18817\n",
      "\n",
      "    accuracy                           0.91    104443\n",
      "   macro avg       0.89      0.80      0.83    104443\n",
      "weighted avg       0.91      0.91      0.91    104443\n",
      "\n",
      "\u001b[01m             Confusion_matrix \u001b[0m\n"
     ]
    },
    {
     "data": {
      "image/png": "[encoded data removed]",
      "text/plain": [
       "<Figure size 640x480 with 2 Axes>"
      ]
     },
     "metadata": {},
     "output_type": "display_data"
    },
    {
     "name": "stdout",
     "output_type": "stream",
     "text": [
      "\u001b[31m###################- End -###################\u001b[0m\n",
      "#############################################\n",
      "######-Model =>\u001b[07m <class 'sklearn.ensemble._forest.RandomForestClassifier'> \u001b[0m\n",
      "Test Accuracy :\u001b[32m \u001b[01m 91.64% \u001b[30m \u001b[0m\n",
      "\u001b[01m              Classification_report \u001b[0m\n",
      "              precision    recall  f1-score   support\n",
      "\n",
      "           0       0.92      0.98      0.95     85626\n",
      "           1       0.88      0.62      0.73     18817\n",
      "\n",
      "    accuracy                           0.92    104443\n",
      "   macro avg       0.90      0.80      0.84    104443\n",
      "weighted avg       0.91      0.92      0.91    104443\n",
      "\n",
      "\u001b[01m             Confusion_matrix \u001b[0m\n"
     ]
    },
    {
     "data": {
      "image/png": "[encoded data removed]",
      "text/plain": [
       "<Figure size 640x480 with 2 Axes>"
      ]
     },
     "metadata": {},
     "output_type": "display_data"
    },
    {
     "name": "stdout",
     "output_type": "stream",
     "text": [
      "\u001b[31m###################- End -###################\u001b[0m\n",
      "#############################################\n",
      "######-Model =>\u001b[07m <class 'sklearn.linear_model._stochastic_gradient.SGDClassifier'> \u001b[0m\n",
      "Test Accuracy :\u001b[32m \u001b[01m 85.10% \u001b[30m \u001b[0m\n",
      "\u001b[01m              Classification_report \u001b[0m\n",
      "              precision    recall  f1-score   support\n",
      "\n",
      "           0       0.85      1.00      0.92     85626\n",
      "           1       0.96      0.18      0.30     18817\n",
      "\n",
      "    accuracy                           0.85    104443\n",
      "   macro avg       0.90      0.59      0.61    104443\n",
      "weighted avg       0.87      0.85      0.81    104443\n",
      "\n",
      "\u001b[01m             Confusion_matrix \u001b[0m\n"
     ]
    },
    {
     "data": {
      "image/png": "[encoded data removed]",
      "text/plain": [
       "<Figure size 640x480 with 2 Axes>"
      ]
     },
     "metadata": {},
     "output_type": "display_data"
    },
    {
     "name": "stdout",
     "output_type": "stream",
     "text": [
      "\u001b[31m###################- End -###################\u001b[0m\n"
     ]
    }
   ],
   "source": [
    "from sklearn.tree import DecisionTreeClassifier\n",
    "from sklearn.ensemble import RandomForestClassifier\n",
    "from sklearn.linear_model import SGDClassifier\n",
    "from sklearn.metrics import ConfusionMatrixDisplay, accuracy_score, classification_report, confusion_matrix\n",
    "import seaborn as sns\n",
    "import matplotlib.pyplot as plt\n",
    "import numpy as np\n",
    "\n",
    "# Assuming X_train, X_test, y_train, y_test are already defined\n",
    "models = [DecisionTreeClassifier, RandomForestClassifier, SGDClassifier]\n",
    "accuracy_test = []\n",
    "\n",
    "for m in models:\n",
    "    print('#############################################')\n",
    "    print('######-Model =>\\033[07m {} \\033[0m'.format(m))\n",
    "    model_ = m()\n",
    "    model_.fit(X_train, y_train)\n",
    "    pred = model_.predict(X_test)\n",
    "    acc = accuracy_score(pred, y_test)\n",
    "    accuracy_test.append(acc)\n",
    "    print('Test Accuracy :\\033[32m \\033[01m {:.2f}% \\033[30m \\033[0m'.format(acc * 100))\n",
    "    print('\\033[01m              Classification_report \\033[0m')\n",
    "    print(classification_report(y_test, pred))\n",
    "    print('\\033[01m             Confusion_matrix \\033[0m')\n",
    "\n",
    "    # Display confusion matrix\n",
    "    cf_matrix = confusion_matrix(y_test, pred)\n",
    "    disp = ConfusionMatrixDisplay(confusion_matrix=cf_matrix)\n",
    "    disp.plot(cmap=\"viridis\")\n",
    "    plt.show()\n",
    "\n",
    "    print('\\033[31m###################- End -###################\\033[0m')\n"
   ]
  },
  {
   "cell_type": "code",
   "execution_count": 23,
   "id": "9988a199",
   "metadata": {},
   "outputs": [],
   "source": [
    "output = pd.DataFrame({\"Model\":['Decision Tree Classifier','Random Forest Classifier',\n",
    "                                'KNeighbors Classifier'],\n",
    "                      \"Accuracy\":accuracy_test})"
   ]
  },
  {
   "cell_type": "code",
   "execution_count": 24,
   "id": "97d682b8",
   "metadata": {},
   "outputs": [
    {
     "data": {
      "image/png": "[encoded data removed]",
      "text/plain": [
       "<Figure size 1000x500 with 1 Axes>"
      ]
     },
     "metadata": {},
     "output_type": "display_data"
    }
   ],
   "source": [
    "plt.figure(figsize=(10, 5))\n",
    "plots = sns.barplot(x='Model', y='Accuracy', data=output)\n",
    "for bar in plots.patches:\n",
    "    plots.annotate(format(bar.get_height(), '.2f'),\n",
    "                   (bar.get_x() + bar.get_width() / 2,\n",
    "                    bar.get_height()), ha='center', va='center',\n",
    "                   size=15, xytext=(0, 8),\n",
    "                   textcoords='offset points')\n",
    "\n",
    "plt.xlabel(\"Models\", size=14)\n",
    "plt.xticks(rotation=20);\n",
    "plt.ylabel(\"Accuracy\", size=14)\n",
    "plt.show()"
   ]
  },
  {
   "cell_type": "code",
   "execution_count": 25,
   "id": "e0ca47d4",
   "metadata": {},
   "outputs": [],
   "source": [
    "def URL_Converter(urls):\n",
    "    data= pd.DataFrame()\n",
    "    data['url'] = pd.Series(urls)\n",
    "\n",
    "    \n",
    "    data['url_len'] = data['url'].apply(lambda x: len(str(x)))\n",
    "    data['domain'] = data['url'].apply(lambda i: process_tld(i))\n",
    "    feature = ['@','?','-','=','.','#','%','+','$','!','*',',','//']\n",
    "    for a in feature:\n",
    "        data[a] = data['url'].apply(lambda i: i.count(a))  \n",
    "    data['abnormal_url'] = data['url'].apply(lambda i: abnormal_url(i))\n",
    "    data['https'] = data['url'].apply(lambda i: httpSecure(i))\n",
    "    data['digits']= data['url'].apply(lambda i: digit_count(i))\n",
    "    data['letters']= data['url'].apply(lambda i: letter_count(i))\n",
    "    data['Shortining_Service'] = data['url'].apply(lambda x: Shortining_Service(x))\n",
    "    data['having_ip_address'] = data['url'].apply(lambda i: having_ip_address(i))\n",
    "    print(data.columns)\n",
    "    X = data.drop(['url','domain'],axis=1)\n",
    "    \n",
    "    return X"
   ]
  },
  {
   "cell_type": "code",
   "execution_count": 26,
   "id": "6ad5739a",
   "metadata": {},
   "outputs": [
    {
     "name": "stdout",
     "output_type": "stream",
     "text": [
      "Index(['url', 'url_len', 'domain', '@', '?', '-', '=', '.', '#', '%', '+', '$',\n",
      "       '!', '*', ',', '//', 'abnormal_url', 'https', 'digits', 'letters',\n",
      "       'Shortining_Service', 'having_ip_address'],\n",
      "      dtype='object')\n",
      "#############################################\n",
      "######-Model =>\u001b[07m <class 'sklearn.tree._classes.DecisionTreeClassifier'> \u001b[0m\n",
      "[1 1 1 1 1 1]\n",
      "#############################################\n",
      "######-Model =>\u001b[07m <class 'sklearn.ensemble._forest.RandomForestClassifier'> \u001b[0m\n",
      "[1 1 1 1 1 1]\n",
      "#############################################\n",
      "######-Model =>\u001b[07m <class 'sklearn.linear_model._stochastic_gradient.SGDClassifier'> \u001b[0m\n",
      "[1 1 0 0 1 1]\n"
     ]
    }
   ],
   "source": [
    "urls=['https://logistilink.xyz',\n",
    "      'https://iridescent-croquembouche-4b8508.netlify.app/',\n",
    "      'apple-search.info',\n",
    "      'www.itcarezone.com/xlrmp/files/anna.exe',\n",
    "      'https://towardsdatascience.com/',\n",
    "      'https://medium.com/'\n",
    "     ]\n",
    "test_data=URL_Converter(urls)\n",
    "models = [DecisionTreeClassifier,RandomForestClassifier,SGDClassifier]\n",
    "\n",
    "for m in models:\n",
    "    print('#############################################')\n",
    "    print('######-Model =>\\033[07m {} \\033[0m'.format(m))\n",
    "    model_ = m()\n",
    "    model_.fit(X_train, y_train)\n",
    "    pred = model_.predict(test_data)\n",
    "    print(pred)"
   ]
  },
  {
   "cell_type": "code",
   "execution_count": 27,
   "id": "cf050ee6",
   "metadata": {},
   "outputs": [
    {
     "name": "stdout",
     "output_type": "stream",
     "text": [
      "                      Model  Accuracy\n",
      "0  Decision Tree Classifier  0.912029\n",
      "1  Random Forest Classifier  0.916404\n",
      "2             SGDClassifier  0.850971\n"
     ]
    }
   ],
   "source": [
    "output = pd.DataFrame({\"Model\":['Decision Tree Classifier','Random Forest Classifier',\n",
    "                                'SGDClassifier'],\n",
    "                      \"Accuracy\":accuracy_test})\n",
    "print(output)"
   ]
  },
  {
   "cell_type": "code",
   "execution_count": null,
   "id": "82924258",
   "metadata": {},
   "outputs": [],
   "source": []
  }
 ],
 "metadata": {
  "kernelspec": {
   "display_name": "Python 3 (ipykernel)",
   "language": "python",
   "name": "python3"
  },
  "language_info": {
   "codemirror_mode": {
    "name": "ipython",
    "version": 3
   },
   "file_extension": ".py",
   "mimetype": "text/x-python",
   "name": "python",
   "nbconvert_exporter": "python",
   "pygments_lexer": "ipython3",
   "version": "3.9.13"
  }
 },
 "nbformat": 4,
 "nbformat_minor": 5
}

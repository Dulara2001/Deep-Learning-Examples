{
 "cells": [
  {
   "cell_type": "markdown",
   "id": "121d852b",
   "metadata": {},
   "source": [
    "# Preprocessing"
   ]
  },
  {
   "cell_type": "code",
   "execution_count": 36,
   "id": "ce2ef69e",
   "metadata": {},
   "outputs": [],
   "source": [
    "import pandas as pd\n",
    "import matplotlib as mpl\n",
    "import matplotlib.pyplot as plt\n",
    "from keras.preprocessing.sequence import TimeseriesGenerator\n",
    "from IPython.display import Image,display\n",
    "\n",
    "mpl.rcParams['figure.figsize'] = (10,8)\n",
    "mpl.rcParams['axes.grid'] = False"
   ]
  },
  {
   "cell_type": "code",
   "execution_count": 37,
   "id": "eb464467",
   "metadata": {},
   "outputs": [],
   "source": [
    "df = pd.read_csv('https://archive.ics.uci.edu/ml/machine-learning-databases/00374/energydata_complete.csv')"
   ]
  },
  {
   "cell_type": "code",
   "execution_count": 38,
   "id": "bc5fca77",
   "metadata": {},
   "outputs": [
    {
     "data": {
      "text/html": [
       "<div>\n",
       "<style scoped>\n",
       "    .dataframe tbody tr th:only-of-type {\n",
       "        vertical-align: middle;\n",
       "    }\n",
       "\n",
       "    .dataframe tbody tr th {\n",
       "        vertical-align: top;\n",
       "    }\n",
       "\n",
       "    .dataframe thead th {\n",
       "        text-align: right;\n",
       "    }\n",
       "</style>\n",
       "<table border=\"1\" class=\"dataframe\">\n",
       "  <thead>\n",
       "    <tr style=\"text-align: right;\">\n",
       "      <th></th>\n",
       "      <th>date</th>\n",
       "      <th>Appliances</th>\n",
       "      <th>lights</th>\n",
       "      <th>T1</th>\n",
       "      <th>RH_1</th>\n",
       "      <th>T2</th>\n",
       "      <th>RH_2</th>\n",
       "      <th>T3</th>\n",
       "      <th>RH_3</th>\n",
       "      <th>T4</th>\n",
       "      <th>RH_4</th>\n",
       "      <th>T5</th>\n",
       "      <th>RH_5</th>\n",
       "      <th>T6</th>\n",
       "      <th>RH_6</th>\n",
       "      <th>T7</th>\n",
       "      <th>RH_7</th>\n",
       "      <th>T8</th>\n",
       "      <th>RH_8</th>\n",
       "      <th>T9</th>\n",
       "      <th>RH_9</th>\n",
       "      <th>T_out</th>\n",
       "      <th>Press_mm_hg</th>\n",
       "      <th>RH_out</th>\n",
       "      <th>Windspeed</th>\n",
       "      <th>Visibility</th>\n",
       "      <th>Tdewpoint</th>\n",
       "      <th>rv1</th>\n",
       "      <th>rv2</th>\n",
       "    </tr>\n",
       "  </thead>\n",
       "  <tbody>\n",
       "    <tr>\n",
       "      <th>0</th>\n",
       "      <td>2016-01-11 17:00:00</td>\n",
       "      <td>60</td>\n",
       "      <td>30</td>\n",
       "      <td>19.890000</td>\n",
       "      <td>47.596667</td>\n",
       "      <td>19.200000</td>\n",
       "      <td>44.790000</td>\n",
       "      <td>19.790000</td>\n",
       "      <td>44.730000</td>\n",
       "      <td>19.000000</td>\n",
       "      <td>45.566667</td>\n",
       "      <td>17.166667</td>\n",
       "      <td>55.200000</td>\n",
       "      <td>7.026667</td>\n",
       "      <td>84.256667</td>\n",
       "      <td>17.200000</td>\n",
       "      <td>41.626667</td>\n",
       "      <td>18.2000</td>\n",
       "      <td>48.900000</td>\n",
       "      <td>17.033333</td>\n",
       "      <td>45.5300</td>\n",
       "      <td>6.600000</td>\n",
       "      <td>733.5</td>\n",
       "      <td>92.000000</td>\n",
       "      <td>7.000000</td>\n",
       "      <td>63.000000</td>\n",
       "      <td>5.300000</td>\n",
       "      <td>13.275433</td>\n",
       "      <td>13.275433</td>\n",
       "    </tr>\n",
       "    <tr>\n",
       "      <th>1</th>\n",
       "      <td>2016-01-11 17:10:00</td>\n",
       "      <td>60</td>\n",
       "      <td>30</td>\n",
       "      <td>19.890000</td>\n",
       "      <td>46.693333</td>\n",
       "      <td>19.200000</td>\n",
       "      <td>44.722500</td>\n",
       "      <td>19.790000</td>\n",
       "      <td>44.790000</td>\n",
       "      <td>19.000000</td>\n",
       "      <td>45.992500</td>\n",
       "      <td>17.166667</td>\n",
       "      <td>55.200000</td>\n",
       "      <td>6.833333</td>\n",
       "      <td>84.063333</td>\n",
       "      <td>17.200000</td>\n",
       "      <td>41.560000</td>\n",
       "      <td>18.2000</td>\n",
       "      <td>48.863333</td>\n",
       "      <td>17.066667</td>\n",
       "      <td>45.5600</td>\n",
       "      <td>6.483333</td>\n",
       "      <td>733.6</td>\n",
       "      <td>92.000000</td>\n",
       "      <td>6.666667</td>\n",
       "      <td>59.166667</td>\n",
       "      <td>5.200000</td>\n",
       "      <td>18.606195</td>\n",
       "      <td>18.606195</td>\n",
       "    </tr>\n",
       "    <tr>\n",
       "      <th>2</th>\n",
       "      <td>2016-01-11 17:20:00</td>\n",
       "      <td>50</td>\n",
       "      <td>30</td>\n",
       "      <td>19.890000</td>\n",
       "      <td>46.300000</td>\n",
       "      <td>19.200000</td>\n",
       "      <td>44.626667</td>\n",
       "      <td>19.790000</td>\n",
       "      <td>44.933333</td>\n",
       "      <td>18.926667</td>\n",
       "      <td>45.890000</td>\n",
       "      <td>17.166667</td>\n",
       "      <td>55.090000</td>\n",
       "      <td>6.560000</td>\n",
       "      <td>83.156667</td>\n",
       "      <td>17.200000</td>\n",
       "      <td>41.433333</td>\n",
       "      <td>18.2000</td>\n",
       "      <td>48.730000</td>\n",
       "      <td>17.000000</td>\n",
       "      <td>45.5000</td>\n",
       "      <td>6.366667</td>\n",
       "      <td>733.7</td>\n",
       "      <td>92.000000</td>\n",
       "      <td>6.333333</td>\n",
       "      <td>55.333333</td>\n",
       "      <td>5.100000</td>\n",
       "      <td>28.642668</td>\n",
       "      <td>28.642668</td>\n",
       "    </tr>\n",
       "    <tr>\n",
       "      <th>3</th>\n",
       "      <td>2016-01-11 17:30:00</td>\n",
       "      <td>50</td>\n",
       "      <td>40</td>\n",
       "      <td>19.890000</td>\n",
       "      <td>46.066667</td>\n",
       "      <td>19.200000</td>\n",
       "      <td>44.590000</td>\n",
       "      <td>19.790000</td>\n",
       "      <td>45.000000</td>\n",
       "      <td>18.890000</td>\n",
       "      <td>45.723333</td>\n",
       "      <td>17.166667</td>\n",
       "      <td>55.090000</td>\n",
       "      <td>6.433333</td>\n",
       "      <td>83.423333</td>\n",
       "      <td>17.133333</td>\n",
       "      <td>41.290000</td>\n",
       "      <td>18.1000</td>\n",
       "      <td>48.590000</td>\n",
       "      <td>17.000000</td>\n",
       "      <td>45.4000</td>\n",
       "      <td>6.250000</td>\n",
       "      <td>733.8</td>\n",
       "      <td>92.000000</td>\n",
       "      <td>6.000000</td>\n",
       "      <td>51.500000</td>\n",
       "      <td>5.000000</td>\n",
       "      <td>45.410389</td>\n",
       "      <td>45.410389</td>\n",
       "    </tr>\n",
       "    <tr>\n",
       "      <th>4</th>\n",
       "      <td>2016-01-11 17:40:00</td>\n",
       "      <td>60</td>\n",
       "      <td>40</td>\n",
       "      <td>19.890000</td>\n",
       "      <td>46.333333</td>\n",
       "      <td>19.200000</td>\n",
       "      <td>44.530000</td>\n",
       "      <td>19.790000</td>\n",
       "      <td>45.000000</td>\n",
       "      <td>18.890000</td>\n",
       "      <td>45.530000</td>\n",
       "      <td>17.200000</td>\n",
       "      <td>55.090000</td>\n",
       "      <td>6.366667</td>\n",
       "      <td>84.893333</td>\n",
       "      <td>17.200000</td>\n",
       "      <td>41.230000</td>\n",
       "      <td>18.1000</td>\n",
       "      <td>48.590000</td>\n",
       "      <td>17.000000</td>\n",
       "      <td>45.4000</td>\n",
       "      <td>6.133333</td>\n",
       "      <td>733.9</td>\n",
       "      <td>92.000000</td>\n",
       "      <td>5.666667</td>\n",
       "      <td>47.666667</td>\n",
       "      <td>4.900000</td>\n",
       "      <td>10.084097</td>\n",
       "      <td>10.084097</td>\n",
       "    </tr>\n",
       "    <tr>\n",
       "      <th>...</th>\n",
       "      <td>...</td>\n",
       "      <td>...</td>\n",
       "      <td>...</td>\n",
       "      <td>...</td>\n",
       "      <td>...</td>\n",
       "      <td>...</td>\n",
       "      <td>...</td>\n",
       "      <td>...</td>\n",
       "      <td>...</td>\n",
       "      <td>...</td>\n",
       "      <td>...</td>\n",
       "      <td>...</td>\n",
       "      <td>...</td>\n",
       "      <td>...</td>\n",
       "      <td>...</td>\n",
       "      <td>...</td>\n",
       "      <td>...</td>\n",
       "      <td>...</td>\n",
       "      <td>...</td>\n",
       "      <td>...</td>\n",
       "      <td>...</td>\n",
       "      <td>...</td>\n",
       "      <td>...</td>\n",
       "      <td>...</td>\n",
       "      <td>...</td>\n",
       "      <td>...</td>\n",
       "      <td>...</td>\n",
       "      <td>...</td>\n",
       "      <td>...</td>\n",
       "    </tr>\n",
       "    <tr>\n",
       "      <th>19730</th>\n",
       "      <td>2016-05-27 17:20:00</td>\n",
       "      <td>100</td>\n",
       "      <td>0</td>\n",
       "      <td>25.566667</td>\n",
       "      <td>46.560000</td>\n",
       "      <td>25.890000</td>\n",
       "      <td>42.025714</td>\n",
       "      <td>27.200000</td>\n",
       "      <td>41.163333</td>\n",
       "      <td>24.700000</td>\n",
       "      <td>45.590000</td>\n",
       "      <td>23.200000</td>\n",
       "      <td>52.400000</td>\n",
       "      <td>24.796667</td>\n",
       "      <td>1.000000</td>\n",
       "      <td>24.500000</td>\n",
       "      <td>44.500000</td>\n",
       "      <td>24.7000</td>\n",
       "      <td>50.074000</td>\n",
       "      <td>23.200000</td>\n",
       "      <td>46.7900</td>\n",
       "      <td>22.733333</td>\n",
       "      <td>755.2</td>\n",
       "      <td>55.666667</td>\n",
       "      <td>3.333333</td>\n",
       "      <td>23.666667</td>\n",
       "      <td>13.333333</td>\n",
       "      <td>43.096812</td>\n",
       "      <td>43.096812</td>\n",
       "    </tr>\n",
       "    <tr>\n",
       "      <th>19731</th>\n",
       "      <td>2016-05-27 17:30:00</td>\n",
       "      <td>90</td>\n",
       "      <td>0</td>\n",
       "      <td>25.500000</td>\n",
       "      <td>46.500000</td>\n",
       "      <td>25.754000</td>\n",
       "      <td>42.080000</td>\n",
       "      <td>27.133333</td>\n",
       "      <td>41.223333</td>\n",
       "      <td>24.700000</td>\n",
       "      <td>45.590000</td>\n",
       "      <td>23.230000</td>\n",
       "      <td>52.326667</td>\n",
       "      <td>24.196667</td>\n",
       "      <td>1.000000</td>\n",
       "      <td>24.557143</td>\n",
       "      <td>44.414286</td>\n",
       "      <td>24.7000</td>\n",
       "      <td>49.790000</td>\n",
       "      <td>23.200000</td>\n",
       "      <td>46.7900</td>\n",
       "      <td>22.600000</td>\n",
       "      <td>755.2</td>\n",
       "      <td>56.000000</td>\n",
       "      <td>3.500000</td>\n",
       "      <td>24.500000</td>\n",
       "      <td>13.300000</td>\n",
       "      <td>49.282940</td>\n",
       "      <td>49.282940</td>\n",
       "    </tr>\n",
       "    <tr>\n",
       "      <th>19732</th>\n",
       "      <td>2016-05-27 17:40:00</td>\n",
       "      <td>270</td>\n",
       "      <td>10</td>\n",
       "      <td>25.500000</td>\n",
       "      <td>46.596667</td>\n",
       "      <td>25.628571</td>\n",
       "      <td>42.768571</td>\n",
       "      <td>27.050000</td>\n",
       "      <td>41.690000</td>\n",
       "      <td>24.700000</td>\n",
       "      <td>45.730000</td>\n",
       "      <td>23.230000</td>\n",
       "      <td>52.266667</td>\n",
       "      <td>23.626667</td>\n",
       "      <td>1.000000</td>\n",
       "      <td>24.540000</td>\n",
       "      <td>44.400000</td>\n",
       "      <td>24.7000</td>\n",
       "      <td>49.660000</td>\n",
       "      <td>23.200000</td>\n",
       "      <td>46.7900</td>\n",
       "      <td>22.466667</td>\n",
       "      <td>755.2</td>\n",
       "      <td>56.333333</td>\n",
       "      <td>3.666667</td>\n",
       "      <td>25.333333</td>\n",
       "      <td>13.266667</td>\n",
       "      <td>29.199117</td>\n",
       "      <td>29.199117</td>\n",
       "    </tr>\n",
       "    <tr>\n",
       "      <th>19733</th>\n",
       "      <td>2016-05-27 17:50:00</td>\n",
       "      <td>420</td>\n",
       "      <td>10</td>\n",
       "      <td>25.500000</td>\n",
       "      <td>46.990000</td>\n",
       "      <td>25.414000</td>\n",
       "      <td>43.036000</td>\n",
       "      <td>26.890000</td>\n",
       "      <td>41.290000</td>\n",
       "      <td>24.700000</td>\n",
       "      <td>45.790000</td>\n",
       "      <td>23.200000</td>\n",
       "      <td>52.200000</td>\n",
       "      <td>22.433333</td>\n",
       "      <td>1.000000</td>\n",
       "      <td>24.500000</td>\n",
       "      <td>44.295714</td>\n",
       "      <td>24.6625</td>\n",
       "      <td>49.518750</td>\n",
       "      <td>23.200000</td>\n",
       "      <td>46.8175</td>\n",
       "      <td>22.333333</td>\n",
       "      <td>755.2</td>\n",
       "      <td>56.666667</td>\n",
       "      <td>3.833333</td>\n",
       "      <td>26.166667</td>\n",
       "      <td>13.233333</td>\n",
       "      <td>6.322784</td>\n",
       "      <td>6.322784</td>\n",
       "    </tr>\n",
       "    <tr>\n",
       "      <th>19734</th>\n",
       "      <td>2016-05-27 18:00:00</td>\n",
       "      <td>430</td>\n",
       "      <td>10</td>\n",
       "      <td>25.500000</td>\n",
       "      <td>46.600000</td>\n",
       "      <td>25.264286</td>\n",
       "      <td>42.971429</td>\n",
       "      <td>26.823333</td>\n",
       "      <td>41.156667</td>\n",
       "      <td>24.700000</td>\n",
       "      <td>45.963333</td>\n",
       "      <td>23.200000</td>\n",
       "      <td>52.200000</td>\n",
       "      <td>21.026667</td>\n",
       "      <td>1.000000</td>\n",
       "      <td>24.500000</td>\n",
       "      <td>44.054000</td>\n",
       "      <td>24.7360</td>\n",
       "      <td>49.736000</td>\n",
       "      <td>23.200000</td>\n",
       "      <td>46.8450</td>\n",
       "      <td>22.200000</td>\n",
       "      <td>755.2</td>\n",
       "      <td>57.000000</td>\n",
       "      <td>4.000000</td>\n",
       "      <td>27.000000</td>\n",
       "      <td>13.200000</td>\n",
       "      <td>34.118851</td>\n",
       "      <td>34.118851</td>\n",
       "    </tr>\n",
       "  </tbody>\n",
       "</table>\n",
       "<p>19735 rows × 29 columns</p>\n",
       "</div>"
      ],
      "text/plain": [
       "                      date  Appliances  lights         T1  ...  Visibility  Tdewpoint        rv1        rv2\n",
       "0      2016-01-11 17:00:00          60      30  19.890000  ...   63.000000   5.300000  13.275433  13.275433\n",
       "1      2016-01-11 17:10:00          60      30  19.890000  ...   59.166667   5.200000  18.606195  18.606195\n",
       "2      2016-01-11 17:20:00          50      30  19.890000  ...   55.333333   5.100000  28.642668  28.642668\n",
       "3      2016-01-11 17:30:00          50      40  19.890000  ...   51.500000   5.000000  45.410389  45.410389\n",
       "4      2016-01-11 17:40:00          60      40  19.890000  ...   47.666667   4.900000  10.084097  10.084097\n",
       "...                    ...         ...     ...        ...  ...         ...        ...        ...        ...\n",
       "19730  2016-05-27 17:20:00         100       0  25.566667  ...   23.666667  13.333333  43.096812  43.096812\n",
       "19731  2016-05-27 17:30:00          90       0  25.500000  ...   24.500000  13.300000  49.282940  49.282940\n",
       "19732  2016-05-27 17:40:00         270      10  25.500000  ...   25.333333  13.266667  29.199117  29.199117\n",
       "19733  2016-05-27 17:50:00         420      10  25.500000  ...   26.166667  13.233333   6.322784   6.322784\n",
       "19734  2016-05-27 18:00:00         430      10  25.500000  ...   27.000000  13.200000  34.118851  34.118851\n",
       "\n",
       "[19735 rows x 29 columns]"
      ]
     },
     "execution_count": 38,
     "metadata": {},
     "output_type": "execute_result"
    }
   ],
   "source": [
    "df"
   ]
  },
  {
   "cell_type": "code",
   "execution_count": 39,
   "id": "c185b922",
   "metadata": {},
   "outputs": [
    {
     "name": "stdout",
     "output_type": "stream",
     "text": [
      "<class 'pandas.core.frame.DataFrame'>\n",
      "RangeIndex: 19735 entries, 0 to 19734\n",
      "Data columns (total 29 columns):\n",
      " #   Column       Non-Null Count  Dtype  \n",
      "---  ------       --------------  -----  \n",
      " 0   date         19735 non-null  object \n",
      " 1   Appliances   19735 non-null  int64  \n",
      " 2   lights       19735 non-null  int64  \n",
      " 3   T1           19735 non-null  float64\n",
      " 4   RH_1         19735 non-null  float64\n",
      " 5   T2           19735 non-null  float64\n",
      " 6   RH_2         19735 non-null  float64\n",
      " 7   T3           19735 non-null  float64\n",
      " 8   RH_3         19735 non-null  float64\n",
      " 9   T4           19735 non-null  float64\n",
      " 10  RH_4         19735 non-null  float64\n",
      " 11  T5           19735 non-null  float64\n",
      " 12  RH_5         19735 non-null  float64\n",
      " 13  T6           19735 non-null  float64\n",
      " 14  RH_6         19735 non-null  float64\n",
      " 15  T7           19735 non-null  float64\n",
      " 16  RH_7         19735 non-null  float64\n",
      " 17  T8           19735 non-null  float64\n",
      " 18  RH_8         19735 non-null  float64\n",
      " 19  T9           19735 non-null  float64\n",
      " 20  RH_9         19735 non-null  float64\n",
      " 21  T_out        19735 non-null  float64\n",
      " 22  Press_mm_hg  19735 non-null  float64\n",
      " 23  RH_out       19735 non-null  float64\n",
      " 24  Windspeed    19735 non-null  float64\n",
      " 25  Visibility   19735 non-null  float64\n",
      " 26  Tdewpoint    19735 non-null  float64\n",
      " 27  rv1          19735 non-null  float64\n",
      " 28  rv2          19735 non-null  float64\n",
      "dtypes: float64(26), int64(2), object(1)\n",
      "memory usage: 4.4+ MB\n"
     ]
    }
   ],
   "source": [
    "df.info()"
   ]
  },
  {
   "cell_type": "code",
   "execution_count": 40,
   "id": "bfaa78cb",
   "metadata": {},
   "outputs": [
    {
     "data": {
      "text/plain": [
       "0       2016-01-11 17:00:00\n",
       "1       2016-01-11 17:10:00\n",
       "2       2016-01-11 17:20:00\n",
       "3       2016-01-11 17:30:00\n",
       "4       2016-01-11 17:40:00\n",
       "                ...        \n",
       "19730   2016-05-27 17:20:00\n",
       "19731   2016-05-27 17:30:00\n",
       "19732   2016-05-27 17:40:00\n",
       "19733   2016-05-27 17:50:00\n",
       "19734   2016-05-27 18:00:00\n",
       "Name: date, Length: 19735, dtype: datetime64[ns]"
      ]
     },
     "execution_count": 40,
     "metadata": {},
     "output_type": "execute_result"
    }
   ],
   "source": [
    "### date column into time stamp format\n",
    "\n",
    "df['date'] = pd.to_datetime(df['date'],infer_datetime_format=True)\n",
    "df['date']"
   ]
  },
  {
   "cell_type": "code",
   "execution_count": 41,
   "id": "c4e69794",
   "metadata": {},
   "outputs": [
    {
     "data": {
      "text/plain": [
       "(19735, 29)"
      ]
     },
     "execution_count": 41,
     "metadata": {},
     "output_type": "execute_result"
    }
   ],
   "source": [
    "# get the number of rows and columns\n",
    "\n",
    "df.shape"
   ]
  },
  {
   "cell_type": "code",
   "execution_count": 42,
   "id": "42aec7b9",
   "metadata": {},
   "outputs": [
    {
     "data": {
      "text/plain": [
       "date           datetime64[ns]\n",
       "Appliances              int64\n",
       "lights                  int64\n",
       "T1                    float64\n",
       "RH_1                  float64\n",
       "T2                    float64\n",
       "RH_2                  float64\n",
       "T3                    float64\n",
       "RH_3                  float64\n",
       "T4                    float64\n",
       "RH_4                  float64\n",
       "T5                    float64\n",
       "RH_5                  float64\n",
       "T6                    float64\n",
       "RH_6                  float64\n",
       "T7                    float64\n",
       "RH_7                  float64\n",
       "T8                    float64\n",
       "RH_8                  float64\n",
       "T9                    float64\n",
       "RH_9                  float64\n",
       "T_out                 float64\n",
       "Press_mm_hg           float64\n",
       "RH_out                float64\n",
       "Windspeed             float64\n",
       "Visibility            float64\n",
       "Tdewpoint             float64\n",
       "rv1                   float64\n",
       "rv2                   float64\n",
       "dtype: object"
      ]
     },
     "execution_count": 42,
     "metadata": {},
     "output_type": "execute_result"
    }
   ],
   "source": [
    "# get the column data types\n",
    "\n",
    "df.dtypes"
   ]
  },
  {
   "cell_type": "code",
   "execution_count": 43,
   "id": "932d5b79",
   "metadata": {},
   "outputs": [
    {
     "data": {
      "text/plain": [
       "date           0\n",
       "Appliances     0\n",
       "lights         0\n",
       "T1             0\n",
       "RH_1           0\n",
       "T2             0\n",
       "RH_2           0\n",
       "T3             0\n",
       "RH_3           0\n",
       "T4             0\n",
       "RH_4           0\n",
       "T5             0\n",
       "RH_5           0\n",
       "T6             0\n",
       "RH_6           0\n",
       "T7             0\n",
       "RH_7           0\n",
       "T8             0\n",
       "RH_8           0\n",
       "T9             0\n",
       "RH_9           0\n",
       "T_out          0\n",
       "Press_mm_hg    0\n",
       "RH_out         0\n",
       "Windspeed      0\n",
       "Visibility     0\n",
       "Tdewpoint      0\n",
       "rv1            0\n",
       "rv2            0\n",
       "dtype: int64"
      ]
     },
     "execution_count": 43,
     "metadata": {},
     "output_type": "execute_result"
    }
   ],
   "source": [
    "# get a count of the empty values for each columns\n",
    "\n",
    "df.isna().sum()"
   ]
  },
  {
   "cell_type": "code",
   "execution_count": 44,
   "id": "ea25290f",
   "metadata": {},
   "outputs": [
    {
     "data": {
      "text/plain": [
       "False"
      ]
     },
     "execution_count": 44,
     "metadata": {},
     "output_type": "execute_result"
    }
   ],
   "source": [
    "#check for any missing or null values\n",
    "\n",
    "df.isnull().values.any()"
   ]
  },
  {
   "cell_type": "code",
   "execution_count": 45,
   "id": "f82c69fa",
   "metadata": {},
   "outputs": [
    {
     "data": {
      "text/plain": [
       "<AxesSubplot:xlabel='date'>"
      ]
     },
     "execution_count": 45,
     "metadata": {},
     "output_type": "execute_result"
    },
    {
     "data": {
      "image/png": "[encoded data removed]",
      "text/plain": [
       "<Figure size 1000x800 with 1 Axes>"
      ]
     },
     "metadata": {},
     "output_type": "display_data"
    }
   ],
   "source": [
    "### Ploting temp output\n",
    "\n",
    "df.set_index('date')['T_out'].plot()"
   ]
  },
  {
   "cell_type": "code",
   "execution_count": 46,
   "id": "72c8a42a",
   "metadata": {},
   "outputs": [
    {
     "data": {
      "text/plain": [
       "array([<AxesSubplot:xlabel='date'>, <AxesSubplot:xlabel='date'>,\n",
       "       <AxesSubplot:xlabel='date'>, <AxesSubplot:xlabel='date'>],\n",
       "      dtype=object)"
      ]
     },
     "execution_count": 46,
     "metadata": {},
     "output_type": "execute_result"
    },
    {
     "data": {
      "image/png": "[encoded data removed]",
      "text/plain": [
       "<Figure size 1000x800 with 4 Axes>"
      ]
     },
     "metadata": {},
     "output_type": "display_data"
    }
   ],
   "source": [
    "### corelation of some features\n",
    "\n",
    "\n",
    "df.set_index('date')[['T_out','RH_2','Appliances','lights']].plot(subplots = True)"
   ]
  },
  {
   "cell_type": "markdown",
   "id": "fd0748db",
   "metadata": {},
   "source": [
    "This line plots the T_out, RH_2, Appliances, and lights columns in the DataFrame, with the date column as the index. The subplots=True argument tells Pandas to plot each column on a separate subplot."
   ]
  },
  {
   "cell_type": "code",
   "execution_count": 47,
   "id": "4579b1fd",
   "metadata": {},
   "outputs": [
    {
     "data": {
      "text/plain": [
       "date           19735\n",
       "Appliances     19735\n",
       "lights         19735\n",
       "T1             19735\n",
       "RH_1           19735\n",
       "T2             19735\n",
       "RH_2           19735\n",
       "T3             19735\n",
       "RH_3           19735\n",
       "T4             19735\n",
       "RH_4           19735\n",
       "T5             19735\n",
       "RH_5           19735\n",
       "T6             19735\n",
       "RH_6           19735\n",
       "T7             19735\n",
       "RH_7           19735\n",
       "T8             19735\n",
       "RH_8           19735\n",
       "T9             19735\n",
       "RH_9           19735\n",
       "T_out          19735\n",
       "Press_mm_hg    19735\n",
       "RH_out         19735\n",
       "Windspeed      19735\n",
       "Visibility     19735\n",
       "Tdewpoint      19735\n",
       "rv1            19735\n",
       "rv2            19735\n",
       "dtype: int64"
      ]
     },
     "execution_count": 47,
     "metadata": {},
     "output_type": "execute_result"
    }
   ],
   "source": [
    "## prints the number of non-null values in each column of the DataFrame.\n",
    "\n",
    "df.count()"
   ]
  },
  {
   "cell_type": "code",
   "execution_count": 48,
   "id": "0cd6299e",
   "metadata": {},
   "outputs": [],
   "source": [
    "features = df[['Appliances','T_out','RH_2']].to_numpy().tolist()\n",
    "target = df['Appliances'].tolist()"
   ]
  },
  {
   "cell_type": "markdown",
   "id": "6689334e",
   "metadata": {},
   "source": [
    "he first line of code (features = df[['Appliances','T_out','RH_2']].to_numpy().tolist()) extracts the Appliances, T_out, and RH_2 columns from the DataFrame and converts them to a list of lists. The to_numpy() function converts the DataFrame to a NumPy array, and the tolist() function converts the NumPy array to a list of lists.\n",
    "\n",
    "The second line of code (target = df['Appliances'].tolist()) extracts the Appliances column from the DataFrame and converts it to a list.\n",
    "\n",
    "The features and target variables can then be used to train a machine learning model to predict energy consumption.\n",
    "\n",
    "The features variable will be used as the input to the machine learning model, and the target variable will be used as the output to the machine learning model."
   ]
  },
  {
   "cell_type": "code",
   "execution_count": 49,
   "id": "05962a94",
   "metadata": {},
   "outputs": [
    {
     "data": {
      "text/plain": [
       "[[60.0, 6.6, 44.79],\n",
       " [60.0, 6.48333333333333, 44.7225],\n",
       " [50.0, 6.36666666666667, 44.6266666666667],\n",
       " [50.0, 6.25, 44.59],\n",
       " [60.0, 6.133333333333329, 44.53],\n",
       " [50.0, 6.01666666666667, 44.5],\n",
       " [60.0, 5.9, 44.5],\n",
       " [60.0, 5.91666666666667, 44.5],\n",
       " [60.0, 5.93333333333333, 44.433333333333294],\n",
       " [70.0, 5.95, 44.4],\n",
       " [230.0, 5.96666666666667, 44.4]]"
      ]
     },
     "execution_count": 49,
     "metadata": {},
     "output_type": "execute_result"
    }
   ],
   "source": [
    "# list of the first 11 elements of the features variable.\n",
    "\n",
    "features[0:11]"
   ]
  },
  {
   "cell_type": "code",
   "execution_count": 50,
   "id": "832122e0",
   "metadata": {},
   "outputs": [
    {
     "data": {
      "text/plain": [
       "[60, 60, 50, 50, 60, 50, 60, 60, 60, 70, 230]"
      ]
     },
     "execution_count": 50,
     "metadata": {},
     "output_type": "execute_result"
    }
   ],
   "source": [
    "#list of the first 11 elements of the target variable.\n",
    "\n",
    "target[0:11]"
   ]
  },
  {
   "cell_type": "code",
   "execution_count": 51,
   "id": "e96a96bc",
   "metadata": {},
   "outputs": [],
   "source": [
    "## Time series generator\n",
    "\n",
    "ts_generator = TimeseriesGenerator(features ,target , length = 6 , sampling_rate=1 , batch_size=1 )"
   ]
  },
  {
   "cell_type": "code",
   "execution_count": 52,
   "id": "44265119",
   "metadata": {},
   "outputs": [
    {
     "data": {
      "text/plain": [
       "<keras.src.preprocessing.sequence.TimeseriesGenerator at 0x23d08bc9e50>"
      ]
     },
     "execution_count": 52,
     "metadata": {},
     "output_type": "execute_result"
    }
   ],
   "source": [
    "ts_generator"
   ]
  },
  {
   "cell_type": "code",
   "execution_count": 53,
   "id": "60ba7a3a",
   "metadata": {},
   "outputs": [
    {
     "data": {
      "text/plain": [
       "(array([[[60.        ,  6.6       , 44.79      ],\n",
       "         [60.        ,  6.48333333, 44.7225    ],\n",
       "         [50.        ,  6.36666667, 44.62666667],\n",
       "         [50.        ,  6.25      , 44.59      ],\n",
       "         [60.        ,  6.13333333, 44.53      ],\n",
       "         [50.        ,  6.01666667, 44.5       ]]]),\n",
       " array([60]))"
      ]
     },
     "execution_count": 53,
     "metadata": {},
     "output_type": "execute_result"
    }
   ],
   "source": [
    "ts_generator[0]"
   ]
  },
  {
   "cell_type": "code",
   "execution_count": 54,
   "id": "8d1d657b",
   "metadata": {},
   "outputs": [
    {
     "data": {
      "text/plain": [
       "(array([[[230.        ,   5.96666667,  44.4       ],\n",
       "         [580.        ,   5.98333333,  44.4       ],\n",
       "         [430.        ,   6.        ,  44.4       ],\n",
       "         [250.        ,   6.        ,  45.1       ],\n",
       "         [100.        ,   6.        ,  45.83333333],\n",
       "         [100.        ,   6.        ,  46.75666667]]]),\n",
       " array([90]))"
      ]
     },
     "execution_count": 54,
     "metadata": {},
     "output_type": "execute_result"
    }
   ],
   "source": [
    "ts_generator[10]"
   ]
  },
  {
   "cell_type": "code",
   "execution_count": 55,
   "id": "8311bd96",
   "metadata": {},
   "outputs": [],
   "source": [
    "### adding stride for ts generator\n",
    "\n",
    "ts_generator = TimeseriesGenerator(features ,target , length = 6 , sampling_rate=1 , batch_size=1  , stride=2)"
   ]
  },
  {
   "cell_type": "markdown",
   "id": "a72139aa",
   "metadata": {},
   "source": [
    "The stride of a TimeseriesGenerator object is the period between successive output sequences. For example, if the stride is 2, then the output sequences will be centered around data[i], data[i+2], data[i+4], and so on."
   ]
  },
  {
   "cell_type": "code",
   "execution_count": 56,
   "id": "e47241fe",
   "metadata": {},
   "outputs": [
    {
     "data": {
      "text/plain": [
       "9865"
      ]
     },
     "execution_count": 56,
     "metadata": {},
     "output_type": "execute_result"
    }
   ],
   "source": [
    "#number of sequences that the ts_generator object can generate.\n",
    "\n",
    "len(ts_generator)"
   ]
  },
  {
   "cell_type": "code",
   "execution_count": 57,
   "id": "dfe3e012",
   "metadata": {},
   "outputs": [],
   "source": [
    "# prepare for multi target\n",
    "\n",
    "multi_target = pd.concat([df['Appliances'] ,df['Appliances'].shift(-1),df['Appliances'].shift(-2)] ,axis = 1).dropna().to_numpy().tolist()"
   ]
  },
  {
   "cell_type": "markdown",
   "id": "c5ba693b",
   "metadata": {},
   "source": [
    "creates a list of lists, where each inner list contains the Appliances value for the current data point, the Appliances value for the previous data point, and the Appliances value for the previous-previous data point.\n",
    "\n",
    "The pd.concat() function is used to concatenate the three Appliances columns into a single DataFrame. The axis parameter specifies that the columns should be concatenated along the axis 1, which means that the columns will be stacked horizontally.\n",
    "\n",
    "The dropna() function is used to drop any rows from the DataFrame that contain missing values.\n",
    "\n",
    "The to_numpy().tolist() function is used to convert the DataFrame to a NumPy array and then to a list of lists."
   ]
  },
  {
   "cell_type": "code",
   "execution_count": 58,
   "id": "dd6d0e7c",
   "metadata": {},
   "outputs": [
    {
     "data": {
      "text/plain": [
       "[[60.0, 60.0, 50.0],\n",
       " [60.0, 50.0, 50.0],\n",
       " [50.0, 50.0, 60.0],\n",
       " [50.0, 60.0, 50.0],\n",
       " [60.0, 50.0, 60.0],\n",
       " [50.0, 60.0, 60.0],\n",
       " [60.0, 60.0, 60.0],\n",
       " [60.0, 60.0, 70.0],\n",
       " [60.0, 70.0, 230.0],\n",
       " [70.0, 230.0, 580.0]]"
      ]
     },
     "execution_count": 58,
     "metadata": {},
     "output_type": "execute_result"
    }
   ],
   "source": [
    "multi_target[0:10]"
   ]
  },
  {
   "cell_type": "code",
   "execution_count": 59,
   "id": "c8b59268",
   "metadata": {},
   "outputs": [],
   "source": [
    "ts_generator2 = TimeseriesGenerator(features[:-2] ,multi_target , length = 6 , sampling_rate=1 , batch_size=1  , stride=2)"
   ]
  },
  {
   "cell_type": "code",
   "execution_count": 60,
   "id": "71ac4ffc",
   "metadata": {},
   "outputs": [
    {
     "data": {
      "text/plain": [
       "(array([[[50.        ,  6.36666667, 44.62666667],\n",
       "         [50.        ,  6.25      , 44.59      ],\n",
       "         [60.        ,  6.13333333, 44.53      ],\n",
       "         [50.        ,  6.01666667, 44.5       ],\n",
       "         [60.        ,  5.9       , 44.5       ],\n",
       "         [60.        ,  5.91666667, 44.5       ]]]),\n",
       " array([[ 60.,  70., 230.]]))"
      ]
     },
     "execution_count": 60,
     "metadata": {},
     "output_type": "execute_result"
    }
   ],
   "source": [
    "ts_generator2[1]"
   ]
  },
  {
   "cell_type": "markdown",
   "id": "962ca8fa",
   "metadata": {},
   "source": [
    "used to generate sequences for training a machine learning model to predict energy consumption for the next three data points based on the previous six data points.\n",
    "\n",
    "The features[:-2] argument specifies that the first two features should be removed from the features list. This is because the multi_target list contains the Appliances value for the current data point, the Appliances value for the previous data point, and the Appliances value for the previous-previous data point.\n",
    "\n",
    "The multi_target argument specifies that the multi_target list should be used as the target for the TimeseriesGenerator object"
   ]
  },
  {
   "cell_type": "code",
   "execution_count": null,
   "id": "1af9e44a",
   "metadata": {},
   "outputs": [],
   "source": []
  },
  {
   "cell_type": "code",
   "execution_count": null,
   "id": "b2cac313",
   "metadata": {},
   "outputs": [],
   "source": []
  },
  {
   "cell_type": "markdown",
   "id": "7a638969",
   "metadata": {},
   "source": [
    "# Data Modeling"
   ]
  },
  {
   "cell_type": "code",
   "execution_count": 61,
   "id": "af6cd70c",
   "metadata": {},
   "outputs": [],
   "source": [
    "from sklearn.model_selection import train_test_split\n",
    "from sklearn.preprocessing import MinMaxScaler , StandardScaler\n",
    "import tensorflow as tf"
   ]
  },
  {
   "cell_type": "code",
   "execution_count": 62,
   "id": "d862fc98",
   "metadata": {},
   "outputs": [
    {
     "name": "stdout",
     "output_type": "stream",
     "text": [
      "<class 'pandas.core.frame.DataFrame'>\n",
      "RangeIndex: 19735 entries, 0 to 19734\n",
      "Data columns (total 29 columns):\n",
      " #   Column       Non-Null Count  Dtype         \n",
      "---  ------       --------------  -----         \n",
      " 0   date         19735 non-null  datetime64[ns]\n",
      " 1   Appliances   19735 non-null  int64         \n",
      " 2   lights       19735 non-null  int64         \n",
      " 3   T1           19735 non-null  float64       \n",
      " 4   RH_1         19735 non-null  float64       \n",
      " 5   T2           19735 non-null  float64       \n",
      " 6   RH_2         19735 non-null  float64       \n",
      " 7   T3           19735 non-null  float64       \n",
      " 8   RH_3         19735 non-null  float64       \n",
      " 9   T4           19735 non-null  float64       \n",
      " 10  RH_4         19735 non-null  float64       \n",
      " 11  T5           19735 non-null  float64       \n",
      " 12  RH_5         19735 non-null  float64       \n",
      " 13  T6           19735 non-null  float64       \n",
      " 14  RH_6         19735 non-null  float64       \n",
      " 15  T7           19735 non-null  float64       \n",
      " 16  RH_7         19735 non-null  float64       \n",
      " 17  T8           19735 non-null  float64       \n",
      " 18  RH_8         19735 non-null  float64       \n",
      " 19  T9           19735 non-null  float64       \n",
      " 20  RH_9         19735 non-null  float64       \n",
      " 21  T_out        19735 non-null  float64       \n",
      " 22  Press_mm_hg  19735 non-null  float64       \n",
      " 23  RH_out       19735 non-null  float64       \n",
      " 24  Windspeed    19735 non-null  float64       \n",
      " 25  Visibility   19735 non-null  float64       \n",
      " 26  Tdewpoint    19735 non-null  float64       \n",
      " 27  rv1          19735 non-null  float64       \n",
      " 28  rv2          19735 non-null  float64       \n",
      "dtypes: datetime64[ns](1), float64(26), int64(2)\n",
      "memory usage: 4.4 MB\n"
     ]
    }
   ],
   "source": [
    "df.info()"
   ]
  },
  {
   "cell_type": "code",
   "execution_count": 63,
   "id": "93194c09",
   "metadata": {},
   "outputs": [],
   "source": [
    "df_input = df[['Appliances','T_out' , 'RH_1' , 'Visibility']]"
   ]
  },
  {
   "cell_type": "code",
   "execution_count": 64,
   "id": "e168129d",
   "metadata": {},
   "outputs": [
    {
     "data": {
      "text/html": [
       "<div>\n",
       "<style scoped>\n",
       "    .dataframe tbody tr th:only-of-type {\n",
       "        vertical-align: middle;\n",
       "    }\n",
       "\n",
       "    .dataframe tbody tr th {\n",
       "        vertical-align: top;\n",
       "    }\n",
       "\n",
       "    .dataframe thead th {\n",
       "        text-align: right;\n",
       "    }\n",
       "</style>\n",
       "<table border=\"1\" class=\"dataframe\">\n",
       "  <thead>\n",
       "    <tr style=\"text-align: right;\">\n",
       "      <th></th>\n",
       "      <th>Appliances</th>\n",
       "      <th>T_out</th>\n",
       "      <th>RH_1</th>\n",
       "      <th>Visibility</th>\n",
       "    </tr>\n",
       "  </thead>\n",
       "  <tbody>\n",
       "    <tr>\n",
       "      <th>0</th>\n",
       "      <td>60</td>\n",
       "      <td>6.600000</td>\n",
       "      <td>47.596667</td>\n",
       "      <td>63.000000</td>\n",
       "    </tr>\n",
       "    <tr>\n",
       "      <th>1</th>\n",
       "      <td>60</td>\n",
       "      <td>6.483333</td>\n",
       "      <td>46.693333</td>\n",
       "      <td>59.166667</td>\n",
       "    </tr>\n",
       "    <tr>\n",
       "      <th>2</th>\n",
       "      <td>50</td>\n",
       "      <td>6.366667</td>\n",
       "      <td>46.300000</td>\n",
       "      <td>55.333333</td>\n",
       "    </tr>\n",
       "    <tr>\n",
       "      <th>3</th>\n",
       "      <td>50</td>\n",
       "      <td>6.250000</td>\n",
       "      <td>46.066667</td>\n",
       "      <td>51.500000</td>\n",
       "    </tr>\n",
       "    <tr>\n",
       "      <th>4</th>\n",
       "      <td>60</td>\n",
       "      <td>6.133333</td>\n",
       "      <td>46.333333</td>\n",
       "      <td>47.666667</td>\n",
       "    </tr>\n",
       "    <tr>\n",
       "      <th>...</th>\n",
       "      <td>...</td>\n",
       "      <td>...</td>\n",
       "      <td>...</td>\n",
       "      <td>...</td>\n",
       "    </tr>\n",
       "    <tr>\n",
       "      <th>19730</th>\n",
       "      <td>100</td>\n",
       "      <td>22.733333</td>\n",
       "      <td>46.560000</td>\n",
       "      <td>23.666667</td>\n",
       "    </tr>\n",
       "    <tr>\n",
       "      <th>19731</th>\n",
       "      <td>90</td>\n",
       "      <td>22.600000</td>\n",
       "      <td>46.500000</td>\n",
       "      <td>24.500000</td>\n",
       "    </tr>\n",
       "    <tr>\n",
       "      <th>19732</th>\n",
       "      <td>270</td>\n",
       "      <td>22.466667</td>\n",
       "      <td>46.596667</td>\n",
       "      <td>25.333333</td>\n",
       "    </tr>\n",
       "    <tr>\n",
       "      <th>19733</th>\n",
       "      <td>420</td>\n",
       "      <td>22.333333</td>\n",
       "      <td>46.990000</td>\n",
       "      <td>26.166667</td>\n",
       "    </tr>\n",
       "    <tr>\n",
       "      <th>19734</th>\n",
       "      <td>430</td>\n",
       "      <td>22.200000</td>\n",
       "      <td>46.600000</td>\n",
       "      <td>27.000000</td>\n",
       "    </tr>\n",
       "  </tbody>\n",
       "</table>\n",
       "<p>19735 rows × 4 columns</p>\n",
       "</div>"
      ],
      "text/plain": [
       "       Appliances      T_out       RH_1  Visibility\n",
       "0              60   6.600000  47.596667   63.000000\n",
       "1              60   6.483333  46.693333   59.166667\n",
       "2              50   6.366667  46.300000   55.333333\n",
       "3              50   6.250000  46.066667   51.500000\n",
       "4              60   6.133333  46.333333   47.666667\n",
       "...           ...        ...        ...         ...\n",
       "19730         100  22.733333  46.560000   23.666667\n",
       "19731          90  22.600000  46.500000   24.500000\n",
       "19732         270  22.466667  46.596667   25.333333\n",
       "19733         420  22.333333  46.990000   26.166667\n",
       "19734         430  22.200000  46.600000   27.000000\n",
       "\n",
       "[19735 rows x 4 columns]"
      ]
     },
     "execution_count": 64,
     "metadata": {},
     "output_type": "execute_result"
    }
   ],
   "source": [
    "df_input"
   ]
  },
  {
   "cell_type": "code",
   "execution_count": 66,
   "id": "dd32af08",
   "metadata": {},
   "outputs": [
    {
     "data": {
      "text/html": [
       "<div>\n",
       "<style scoped>\n",
       "    .dataframe tbody tr th:only-of-type {\n",
       "        vertical-align: middle;\n",
       "    }\n",
       "\n",
       "    .dataframe tbody tr th {\n",
       "        vertical-align: top;\n",
       "    }\n",
       "\n",
       "    .dataframe thead th {\n",
       "        text-align: right;\n",
       "    }\n",
       "</style>\n",
       "<table border=\"1\" class=\"dataframe\">\n",
       "  <thead>\n",
       "    <tr style=\"text-align: right;\">\n",
       "      <th></th>\n",
       "      <th>Appliances</th>\n",
       "      <th>T_out</th>\n",
       "      <th>RH_1</th>\n",
       "      <th>Visibility</th>\n",
       "    </tr>\n",
       "  </thead>\n",
       "  <tbody>\n",
       "    <tr>\n",
       "      <th>count</th>\n",
       "      <td>19735.000000</td>\n",
       "      <td>19735.000000</td>\n",
       "      <td>19735.000000</td>\n",
       "      <td>19735.000000</td>\n",
       "    </tr>\n",
       "    <tr>\n",
       "      <th>mean</th>\n",
       "      <td>97.694958</td>\n",
       "      <td>7.411665</td>\n",
       "      <td>40.259739</td>\n",
       "      <td>38.330834</td>\n",
       "    </tr>\n",
       "    <tr>\n",
       "      <th>std</th>\n",
       "      <td>102.524891</td>\n",
       "      <td>5.317409</td>\n",
       "      <td>3.979299</td>\n",
       "      <td>11.794719</td>\n",
       "    </tr>\n",
       "    <tr>\n",
       "      <th>min</th>\n",
       "      <td>10.000000</td>\n",
       "      <td>-5.000000</td>\n",
       "      <td>27.023333</td>\n",
       "      <td>1.000000</td>\n",
       "    </tr>\n",
       "    <tr>\n",
       "      <th>25%</th>\n",
       "      <td>50.000000</td>\n",
       "      <td>3.666667</td>\n",
       "      <td>37.333333</td>\n",
       "      <td>29.000000</td>\n",
       "    </tr>\n",
       "    <tr>\n",
       "      <th>50%</th>\n",
       "      <td>60.000000</td>\n",
       "      <td>6.916667</td>\n",
       "      <td>39.656667</td>\n",
       "      <td>40.000000</td>\n",
       "    </tr>\n",
       "    <tr>\n",
       "      <th>75%</th>\n",
       "      <td>100.000000</td>\n",
       "      <td>10.408333</td>\n",
       "      <td>43.066667</td>\n",
       "      <td>40.000000</td>\n",
       "    </tr>\n",
       "    <tr>\n",
       "      <th>max</th>\n",
       "      <td>1080.000000</td>\n",
       "      <td>26.100000</td>\n",
       "      <td>63.360000</td>\n",
       "      <td>66.000000</td>\n",
       "    </tr>\n",
       "  </tbody>\n",
       "</table>\n",
       "</div>"
      ],
      "text/plain": [
       "         Appliances         T_out          RH_1    Visibility\n",
       "count  19735.000000  19735.000000  19735.000000  19735.000000\n",
       "mean      97.694958      7.411665     40.259739     38.330834\n",
       "std      102.524891      5.317409      3.979299     11.794719\n",
       "min       10.000000     -5.000000     27.023333      1.000000\n",
       "25%       50.000000      3.666667     37.333333     29.000000\n",
       "50%       60.000000      6.916667     39.656667     40.000000\n",
       "75%      100.000000     10.408333     43.066667     40.000000\n",
       "max     1080.000000     26.100000     63.360000     66.000000"
      ]
     },
     "execution_count": 66,
     "metadata": {},
     "output_type": "execute_result"
    }
   ],
   "source": [
    "### summary\n",
    "\n",
    "df_input.describe()"
   ]
  },
  {
   "cell_type": "code",
   "execution_count": 67,
   "id": "32d03acd",
   "metadata": {},
   "outputs": [
    {
     "data": {
      "text/html": [
       "<div>\n",
       "<style scoped>\n",
       "    .dataframe tbody tr th:only-of-type {\n",
       "        vertical-align: middle;\n",
       "    }\n",
       "\n",
       "    .dataframe tbody tr th {\n",
       "        vertical-align: top;\n",
       "    }\n",
       "\n",
       "    .dataframe thead th {\n",
       "        text-align: right;\n",
       "    }\n",
       "</style>\n",
       "<table border=\"1\" class=\"dataframe\">\n",
       "  <thead>\n",
       "    <tr style=\"text-align: right;\">\n",
       "      <th></th>\n",
       "      <th>Appliances</th>\n",
       "      <th>T_out</th>\n",
       "      <th>RH_1</th>\n",
       "      <th>Visibility</th>\n",
       "    </tr>\n",
       "  </thead>\n",
       "  <tbody>\n",
       "    <tr>\n",
       "      <th>11</th>\n",
       "      <td>580</td>\n",
       "      <td>5.983333</td>\n",
       "      <td>46.396667</td>\n",
       "      <td>40.000000</td>\n",
       "    </tr>\n",
       "    <tr>\n",
       "      <th>314</th>\n",
       "      <td>520</td>\n",
       "      <td>2.900000</td>\n",
       "      <td>41.530000</td>\n",
       "      <td>36.333333</td>\n",
       "    </tr>\n",
       "    <tr>\n",
       "      <th>392</th>\n",
       "      <td>550</td>\n",
       "      <td>2.033333</td>\n",
       "      <td>43.433333</td>\n",
       "      <td>40.000000</td>\n",
       "    </tr>\n",
       "    <tr>\n",
       "      <th>393</th>\n",
       "      <td>690</td>\n",
       "      <td>2.100000</td>\n",
       "      <td>43.766667</td>\n",
       "      <td>40.000000</td>\n",
       "    </tr>\n",
       "    <tr>\n",
       "      <th>394</th>\n",
       "      <td>620</td>\n",
       "      <td>2.166667</td>\n",
       "      <td>43.693333</td>\n",
       "      <td>40.000000</td>\n",
       "    </tr>\n",
       "    <tr>\n",
       "      <th>...</th>\n",
       "      <td>...</td>\n",
       "      <td>...</td>\n",
       "      <td>...</td>\n",
       "      <td>...</td>\n",
       "    </tr>\n",
       "    <tr>\n",
       "      <th>19586</th>\n",
       "      <td>600</td>\n",
       "      <td>20.833333</td>\n",
       "      <td>44.066667</td>\n",
       "      <td>40.000000</td>\n",
       "    </tr>\n",
       "    <tr>\n",
       "      <th>19587</th>\n",
       "      <td>520</td>\n",
       "      <td>20.900000</td>\n",
       "      <td>43.366667</td>\n",
       "      <td>40.000000</td>\n",
       "    </tr>\n",
       "    <tr>\n",
       "      <th>19684</th>\n",
       "      <td>580</td>\n",
       "      <td>15.900000</td>\n",
       "      <td>47.226667</td>\n",
       "      <td>61.000000</td>\n",
       "    </tr>\n",
       "    <tr>\n",
       "      <th>19685</th>\n",
       "      <td>660</td>\n",
       "      <td>16.100000</td>\n",
       "      <td>47.693333</td>\n",
       "      <td>61.000000</td>\n",
       "    </tr>\n",
       "    <tr>\n",
       "      <th>19695</th>\n",
       "      <td>620</td>\n",
       "      <td>19.100000</td>\n",
       "      <td>48.326667</td>\n",
       "      <td>64.000000</td>\n",
       "    </tr>\n",
       "  </tbody>\n",
       "</table>\n",
       "<p>288 rows × 4 columns</p>\n",
       "</div>"
      ],
      "text/plain": [
       "       Appliances      T_out       RH_1  Visibility\n",
       "11            580   5.983333  46.396667   40.000000\n",
       "314           520   2.900000  41.530000   36.333333\n",
       "392           550   2.033333  43.433333   40.000000\n",
       "393           690   2.100000  43.766667   40.000000\n",
       "394           620   2.166667  43.693333   40.000000\n",
       "...           ...        ...        ...         ...\n",
       "19586         600  20.833333  44.066667   40.000000\n",
       "19587         520  20.900000  43.366667   40.000000\n",
       "19684         580  15.900000  47.226667   61.000000\n",
       "19685         660  16.100000  47.693333   61.000000\n",
       "19695         620  19.100000  48.326667   64.000000\n",
       "\n",
       "[288 rows x 4 columns]"
      ]
     },
     "execution_count": 67,
     "metadata": {},
     "output_type": "execute_result"
    }
   ],
   "source": [
    "df_input.query('Appliances>500')"
   ]
  },
  {
   "cell_type": "code",
   "execution_count": 68,
   "id": "fb4dfe35",
   "metadata": {},
   "outputs": [],
   "source": [
    "## scale value\n",
    "\n",
    "scaler = MinMaxScaler()\n",
    "data_scaled = scaler.fit_transform(df_input)"
   ]
  },
  {
   "cell_type": "markdown",
   "id": "c30b223a",
   "metadata": {},
   "source": [
    "The code data_scaled = scaler.fit_transform(df_input) uses the MinMaxScaler object to scale the df_input DataFrame. The fit_transform() function first fits the scaler to the data, and then transforms the data using the fitted scaler.\n",
    "\n",
    "The MinMaxScaler object scales the data to the range [0, 1]. This means that the minimum value in the data will be scaled to 0 and the maximum value in the data will be scaled to 1."
   ]
  },
  {
   "cell_type": "code",
   "execution_count": 69,
   "id": "69b36f97",
   "metadata": {},
   "outputs": [
    {
     "name": "stdout",
     "output_type": "stream",
     "text": [
      "[[0.04672897 0.37299035 0.56618659 0.95384615]\n",
      " [0.04672897 0.36923901 0.54132648 0.89487179]\n",
      " [0.03738318 0.36548767 0.53050179 0.83589744]\n",
      " ...\n",
      " [0.24299065 0.88317256 0.53866618 0.37435897]\n",
      " [0.38317757 0.87888532 0.54949087 0.38717949]\n",
      " [0.39252336 0.87459807 0.53875791 0.4       ]]\n"
     ]
    }
   ],
   "source": [
    "print(data_scaled)"
   ]
  },
  {
   "cell_type": "code",
   "execution_count": 70,
   "id": "d9ccf084",
   "metadata": {},
   "outputs": [],
   "source": [
    "features = data_scaled\n",
    "target = data_scaled[:,0]"
   ]
  },
  {
   "cell_type": "markdown",
   "id": "46422e91",
   "metadata": {},
   "source": [
    "### Split the data into training and testing"
   ]
  },
  {
   "cell_type": "code",
   "execution_count": 71,
   "id": "98129621",
   "metadata": {},
   "outputs": [],
   "source": [
    "x_train , x_test , y_train , y_test = train_test_split(features , target , test_size = 0.2 , random_state = 123 , shuffle = False)"
   ]
  },
  {
   "cell_type": "code",
   "execution_count": 72,
   "id": "889c0bb7",
   "metadata": {},
   "outputs": [
    {
     "data": {
      "text/plain": [
       "(15788, 4)"
      ]
     },
     "execution_count": 72,
     "metadata": {},
     "output_type": "execute_result"
    }
   ],
   "source": [
    "x_train.shape"
   ]
  },
  {
   "cell_type": "code",
   "execution_count": 73,
   "id": "7650d24d",
   "metadata": {},
   "outputs": [
    {
     "data": {
      "text/plain": [
       "(3947, 4)"
      ]
     },
     "execution_count": 73,
     "metadata": {},
     "output_type": "execute_result"
    }
   ],
   "source": [
    "x_test.shape"
   ]
  },
  {
   "cell_type": "code",
   "execution_count": 74,
   "id": "246b6d6d",
   "metadata": {},
   "outputs": [],
   "source": [
    "win_length = 720\n",
    "b_size = 32\n",
    "num_features = 4\n",
    "\n",
    "train_generator = TimeseriesGenerator(x_train , y_train , length=win_length , sampling_rate= 1 , batch_size= b_size )\n",
    "test_generator = TimeseriesGenerator(x_test , y_test , length=win_length , sampling_rate= 1 , batch_size= b_size )"
   ]
  },
  {
   "cell_type": "code",
   "execution_count": 75,
   "id": "39777d3d",
   "metadata": {},
   "outputs": [
    {
     "data": {
      "text/plain": [
       "(array([[[0.04672897, 0.37299035, 0.56618659, 0.95384615],\n",
       "         [0.04672897, 0.36923901, 0.54132648, 0.89487179],\n",
       "         [0.03738318, 0.36548767, 0.53050179, 0.83589744],\n",
       "         ...,\n",
       "         [0.06542056, 0.25241158, 0.31584258, 0.79230769],\n",
       "         [0.05607477, 0.23901393, 0.31309054, 0.72820513],\n",
       "         [0.06542056, 0.22561629, 0.31107238, 0.66410256]],\n",
       " \n",
       "        [[0.04672897, 0.36923901, 0.54132648, 0.89487179],\n",
       "         [0.03738318, 0.36548767, 0.53050179, 0.83589744],\n",
       "         [0.03738318, 0.36173633, 0.52408036, 0.77692308],\n",
       "         ...,\n",
       "         [0.05607477, 0.23901393, 0.31309054, 0.72820513],\n",
       "         [0.06542056, 0.22561629, 0.31107238, 0.66410256],\n",
       "         [0.06542056, 0.21221865, 0.30923768, 0.6       ]],\n",
       " \n",
       "        [[0.03738318, 0.36548767, 0.53050179, 0.83589744],\n",
       "         [0.03738318, 0.36173633, 0.52408036, 0.77692308],\n",
       "         [0.04672897, 0.35798499, 0.53141914, 0.71794872],\n",
       "         ...,\n",
       "         [0.06542056, 0.22561629, 0.31107238, 0.66410256],\n",
       "         [0.06542056, 0.21221865, 0.30923768, 0.6       ],\n",
       "         [0.13084112, 0.2170418 , 0.3055683 , 0.6       ]],\n",
       " \n",
       "        ...,\n",
       " \n",
       "        [[0.08411215, 0.34297964, 0.50389872, 0.6       ],\n",
       "         [0.09345794, 0.34083601, 0.49821117, 0.6       ],\n",
       "         [0.36448598, 0.34244373, 0.49380791, 0.6       ],\n",
       "         ...,\n",
       "         [0.08411215, 0.17470525, 0.32134667, 0.24615385],\n",
       "         [0.09345794, 0.17524116, 0.31749381, 0.26923077],\n",
       "         [0.09345794, 0.17577706, 0.31400789, 0.29230769]],\n",
       " \n",
       "        [[0.09345794, 0.34083601, 0.49821117, 0.6       ],\n",
       "         [0.36448598, 0.34244373, 0.49380791, 0.6       ],\n",
       "         [0.36448598, 0.34405145, 0.48830383, 0.6       ],\n",
       "         ...,\n",
       "         [0.09345794, 0.17524116, 0.31749381, 0.26923077],\n",
       "         [0.09345794, 0.17577706, 0.31400789, 0.29230769],\n",
       "         [0.1682243 , 0.17631297, 0.31208146, 0.31538462]],\n",
       " \n",
       "        [[0.36448598, 0.34244373, 0.49380791, 0.6       ],\n",
       "         [0.36448598, 0.34405145, 0.48830383, 0.6       ],\n",
       "         [0.35514019, 0.34565916, 0.48261627, 0.6       ],\n",
       "         ...,\n",
       "         [0.09345794, 0.17577706, 0.31400789, 0.29230769],\n",
       "         [0.1682243 , 0.17631297, 0.31208146, 0.31538462],\n",
       "         [0.41121495, 0.17684887, 0.3100633 , 0.33846154]]]),\n",
       " array([0.06542056, 0.13084112, 0.34579439, 0.26168224, 0.24299065,\n",
       "        0.38317757, 0.25233645, 0.27102804, 0.31775701, 0.24299065,\n",
       "        0.51401869, 1.        , 0.69158879, 0.35514019, 0.31775701,\n",
       "        0.30841121, 0.26168224, 0.20560748, 0.10280374, 0.09345794,\n",
       "        0.08411215, 0.09345794, 0.11214953, 0.12149533, 0.09345794,\n",
       "        0.08411215, 0.08411215, 0.09345794, 0.09345794, 0.1682243 ,\n",
       "        0.41121495, 0.18691589]))"
      ]
     },
     "execution_count": 75,
     "metadata": {},
     "output_type": "execute_result"
    }
   ],
   "source": [
    "train_generator[0]"
   ]
  },
  {
   "cell_type": "markdown",
   "id": "6fb1ba39",
   "metadata": {},
   "source": [
    "### Model Create"
   ]
  },
  {
   "cell_type": "code",
   "execution_count": 76,
   "id": "fb4edd2e",
   "metadata": {},
   "outputs": [],
   "source": [
    "model = tf.keras.Sequential()\n",
    "model.add(tf.keras.layers.LSTM(128,input_shape = (win_length , num_features) , return_sequences= True))\n",
    "model.add(tf.keras.layers.LeakyReLU(alpha=0.5))\n",
    "model.add(tf.keras.layers.LSTM(128 , return_sequences=True))\n",
    "model.add(tf.keras.layers.LeakyReLU(alpha=0.5))\n",
    "model.add(tf.keras.layers.Dropout(0.3))\n",
    "model.add(tf.keras.layers.LSTM(64 , return_sequences=False))\n",
    "model.add(tf.keras.layers.Dropout(0.3))\n",
    "model.add(tf.keras.layers.Dense(1))"
   ]
  },
  {
   "cell_type": "markdown",
   "id": "9ccc6d76",
   "metadata": {},
   "source": [
    "model.add(tf.keras.layers.LSTM(128, input_shape=(win_length, num_features), return_sequences=True)): This line adds an LSTM (Long Short-Term Memory) layer with 128 units to the model. It takes input sequences of shape (win_length, num_features) and returns sequences as output (due to return_sequences=True). LSTM is a type of recurrent neural network (RNN) that is good for processing sequential data.\n",
    "\n",
    "model.add(tf.keras.layers.LeakyReLU(alpha=0.5)): After each LSTM layer, a Leaky ReLU activation function is applied. Leaky ReLU is a type of activation function that allows a small gradient when the unit is not active, which can help with training deep networks."
   ]
  },
  {
   "cell_type": "code",
   "execution_count": 78,
   "id": "acf032d8",
   "metadata": {},
   "outputs": [
    {
     "name": "stdout",
     "output_type": "stream",
     "text": [
      "Model: \"sequential\"\n",
      "_________________________________________________________________\n",
      " Layer (type)                Output Shape              Param #   \n",
      "=================================================================\n",
      " lstm (LSTM)                 (None, 720, 128)          68096     \n",
      "                                                                 \n",
      " leaky_re_lu (LeakyReLU)     (None, 720, 128)          0         \n",
      "                                                                 \n",
      " lstm_1 (LSTM)               (None, 720, 128)          131584    \n",
      "                                                                 \n",
      " leaky_re_lu_1 (LeakyReLU)   (None, 720, 128)          0         \n",
      "                                                                 \n",
      " dropout (Dropout)           (None, 720, 128)          0         \n",
      "                                                                 \n",
      " lstm_2 (LSTM)               (None, 64)                49408     \n",
      "                                                                 \n",
      " dropout_1 (Dropout)         (None, 64)                0         \n",
      "                                                                 \n",
      " dense (Dense)               (None, 1)                 65        \n",
      "                                                                 \n",
      "=================================================================\n",
      "Total params: 249153 (973.25 KB)\n",
      "Trainable params: 249153 (973.25 KB)\n",
      "Non-trainable params: 0 (0.00 Byte)\n",
      "_________________________________________________________________\n"
     ]
    }
   ],
   "source": [
    "model.summary()"
   ]
  },
  {
   "cell_type": "markdown",
   "id": "9a4cc680",
   "metadata": {},
   "source": [
    "### Model Compile"
   ]
  },
  {
   "cell_type": "code",
   "execution_count": 79,
   "id": "6928cef0",
   "metadata": {},
   "outputs": [
    {
     "name": "stderr",
     "output_type": "stream",
     "text": [
      "C:\\Users\\dulara\\AppData\\Local\\Temp\\ipykernel_11416\\3428011652.py:8: UserWarning: `Model.fit_generator` is deprecated and will be removed in a future version. Please use `Model.fit`, which supports generators.\n",
      "  history = model.fit_generator(train_generator , epochs=1,#should be 50\n"
     ]
    },
    {
     "name": "stdout",
     "output_type": "stream",
     "text": [
      "471/471 [==============================] - 691s 1s/step - loss: 0.0086 - mean_absolute_error: 0.0511 - val_loss: 0.0058 - val_mean_absolute_error: 0.0496\n"
     ]
    }
   ],
   "source": [
    "early_stopping = tf.keras.callbacks.EarlyStopping(monitor='val_loss',patience=2,mode = 'min')\n",
    "\n",
    "\n",
    "model.compile(loss = tf.losses.MeanSquaredError(),\n",
    "              optimizer=tf.optimizers.Adam(),\n",
    "              metrics = [tf.metrics.MeanAbsoluteError()])\n",
    "\n",
    "history = model.fit_generator(train_generator , epochs=1,#should be 50\n",
    "                              validation_data=test_generator,\n",
    "                              shuffle= False,\n",
    "                              callbacks = [early_stopping]\n",
    "                              )"
   ]
  },
  {
   "cell_type": "code",
   "execution_count": 80,
   "id": "d57343cc",
   "metadata": {},
   "outputs": [
    {
     "name": "stderr",
     "output_type": "stream",
     "text": [
      "C:\\Users\\dulara\\AppData\\Local\\Temp\\ipykernel_11416\\4165518954.py:1: UserWarning: `Model.evaluate_generator` is deprecated and will be removed in a future version. Please use `Model.evaluate`, which supports generators.\n",
      "  model.evaluate_generator(test_generator , verbose=0)\n"
     ]
    },
    {
     "data": {
      "text/plain": [
       "[0.00578142236918211, 0.0496220737695694]"
      ]
     },
     "execution_count": 80,
     "metadata": {},
     "output_type": "execute_result"
    }
   ],
   "source": [
    "model.evaluate_generator(test_generator , verbose=0)"
   ]
  },
  {
   "cell_type": "code",
   "execution_count": 81,
   "id": "5868b8e1",
   "metadata": {},
   "outputs": [
    {
     "name": "stderr",
     "output_type": "stream",
     "text": [
      "C:\\Users\\dulara\\AppData\\Local\\Temp\\ipykernel_11416\\4012717064.py:2: UserWarning: `Model.predict_generator` is deprecated and will be removed in a future version. Please use `Model.predict`, which supports generators.\n",
      "  prediction = model.predict_generator(test_generator)\n"
     ]
    }
   ],
   "source": [
    "## prediction\n",
    "prediction = model.predict_generator(test_generator)"
   ]
  },
  {
   "cell_type": "code",
   "execution_count": 82,
   "id": "08722392",
   "metadata": {},
   "outputs": [
    {
     "data": {
      "text/plain": [
       "array([[0.10244213],\n",
       "       [0.0997974 ],\n",
       "       [0.09761737],\n",
       "       ...,\n",
       "       [0.12789524],\n",
       "       [0.12969638],\n",
       "       [0.1385319 ]], dtype=float32)"
      ]
     },
     "execution_count": 82,
     "metadata": {},
     "output_type": "execute_result"
    }
   ],
   "source": [
    "# scaled prediction\n",
    "prediction"
   ]
  },
  {
   "cell_type": "code",
   "execution_count": null,
   "id": "5ab8da4e",
   "metadata": {},
   "outputs": [],
   "source": []
  }
 ],
 "metadata": {
  "kernelspec": {
   "display_name": "Python 3 (ipykernel)",
   "language": "python",
   "name": "python3"
  },
  "language_info": {
   "codemirror_mode": {
    "name": "ipython",
    "version": 3
   },
   "file_extension": ".py",
   "mimetype": "text/x-python",
   "name": "python",
   "nbconvert_exporter": "python",
   "pygments_lexer": "ipython3",
   "version": "3.9.13"
  }
 },
 "nbformat": 4,
 "nbformat_minor": 5
}
